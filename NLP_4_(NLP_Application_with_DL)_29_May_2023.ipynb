{
  "cells": [
    {
      "cell_type": "markdown",
      "metadata": {
        "id": "6X73SBpsMP26"
      },
      "source": [
        "## NLP Application with DL"
      ]
    },
    {
      "cell_type": "code",
      "execution_count": null,
      "metadata": {
        "colab": {
          "base_uri": "https://localhost:8080/"
        },
        "id": "cgJ_HalfMSVB",
        "outputId": "fe99f0e7-17a9-4ad7-8987-c8d3941834d9"
      },
      "outputs": [
        {
          "output_type": "stream",
          "name": "stdout",
          "text": [
            "Mounted at /content/drive\n"
          ]
        }
      ],
      "source": [
        "from google.colab import drive\n",
        "drive.mount('/content/drive')"
      ]
    },
    {
      "cell_type": "markdown",
      "metadata": {
        "id": "0Y6XdY0zMP3B"
      },
      "source": [
        "## Import libraries"
      ]
    },
    {
      "cell_type": "code",
      "execution_count": null,
      "metadata": {
        "id": "yt8uihaEMP3B"
      },
      "outputs": [],
      "source": [
        "import numpy as np\n",
        "import pandas as pd\n",
        "from tensorflow.keras.models import Sequential\n",
        "from tensorflow.keras.layers import Dense, GRU, Embedding, Dropout\n",
        "from tensorflow.keras.optimizers import Adam\n",
        "from tensorflow.keras.preprocessing.text import Tokenizer\n",
        "from tensorflow.keras.preprocessing.sequence import pad_sequences"
      ]
    },
    {
      "cell_type": "code",
      "execution_count": null,
      "metadata": {
        "id": "lN-e8sK4MP3D"
      },
      "outputs": [],
      "source": [
        "df = pd.read_csv('/content/drive/MyDrive/hepsiburada.zip', encoding=\"utf-8\")"
      ]
    },
    {
      "cell_type": "code",
      "execution_count": null,
      "metadata": {
        "colab": {
          "base_uri": "https://localhost:8080/",
          "height": 206
        },
        "id": "kBw6YugKMP3D",
        "outputId": "f35123c9-68c6-4e43-dfd9-85ffaa1cb794"
      },
      "outputs": [
        {
          "output_type": "execute_result",
          "data": {
            "text/plain": [
              "   Rating                                             Review\n",
              "0       1                            3 yıldır tık demedi. :)\n",
              "1       1                      3 yıldır kullanıyorum müthiş \n",
              "2       1  Ürün bugün elime geçti çok fazla inceleme fırs...\n",
              "3       1  Almaya karar verdim. Hemencecik geldi. Keyifle...\n",
              "4       1  Günlük kullanımınızı çok çok iyi karsılıyor kı..."
            ],
            "text/html": [
              "\n",
              "  <div id=\"df-bf83c8a3-7bf4-4172-a2fb-05730ed31c24\">\n",
              "    <div class=\"colab-df-container\">\n",
              "      <div>\n",
              "<style scoped>\n",
              "    .dataframe tbody tr th:only-of-type {\n",
              "        vertical-align: middle;\n",
              "    }\n",
              "\n",
              "    .dataframe tbody tr th {\n",
              "        vertical-align: top;\n",
              "    }\n",
              "\n",
              "    .dataframe thead th {\n",
              "        text-align: right;\n",
              "    }\n",
              "</style>\n",
              "<table border=\"1\" class=\"dataframe\">\n",
              "  <thead>\n",
              "    <tr style=\"text-align: right;\">\n",
              "      <th></th>\n",
              "      <th>Rating</th>\n",
              "      <th>Review</th>\n",
              "    </tr>\n",
              "  </thead>\n",
              "  <tbody>\n",
              "    <tr>\n",
              "      <th>0</th>\n",
              "      <td>1</td>\n",
              "      <td>3 yıldır tık demedi. :)</td>\n",
              "    </tr>\n",
              "    <tr>\n",
              "      <th>1</th>\n",
              "      <td>1</td>\n",
              "      <td>3 yıldır kullanıyorum müthiş</td>\n",
              "    </tr>\n",
              "    <tr>\n",
              "      <th>2</th>\n",
              "      <td>1</td>\n",
              "      <td>Ürün bugün elime geçti çok fazla inceleme fırs...</td>\n",
              "    </tr>\n",
              "    <tr>\n",
              "      <th>3</th>\n",
              "      <td>1</td>\n",
              "      <td>Almaya karar verdim. Hemencecik geldi. Keyifle...</td>\n",
              "    </tr>\n",
              "    <tr>\n",
              "      <th>4</th>\n",
              "      <td>1</td>\n",
              "      <td>Günlük kullanımınızı çok çok iyi karsılıyor kı...</td>\n",
              "    </tr>\n",
              "  </tbody>\n",
              "</table>\n",
              "</div>\n",
              "      <button class=\"colab-df-convert\" onclick=\"convertToInteractive('df-bf83c8a3-7bf4-4172-a2fb-05730ed31c24')\"\n",
              "              title=\"Convert this dataframe to an interactive table.\"\n",
              "              style=\"display:none;\">\n",
              "        \n",
              "  <svg xmlns=\"http://www.w3.org/2000/svg\" height=\"24px\"viewBox=\"0 0 24 24\"\n",
              "       width=\"24px\">\n",
              "    <path d=\"M0 0h24v24H0V0z\" fill=\"none\"/>\n",
              "    <path d=\"M18.56 5.44l.94 2.06.94-2.06 2.06-.94-2.06-.94-.94-2.06-.94 2.06-2.06.94zm-11 1L8.5 8.5l.94-2.06 2.06-.94-2.06-.94L8.5 2.5l-.94 2.06-2.06.94zm10 10l.94 2.06.94-2.06 2.06-.94-2.06-.94-.94-2.06-.94 2.06-2.06.94z\"/><path d=\"M17.41 7.96l-1.37-1.37c-.4-.4-.92-.59-1.43-.59-.52 0-1.04.2-1.43.59L10.3 9.45l-7.72 7.72c-.78.78-.78 2.05 0 2.83L4 21.41c.39.39.9.59 1.41.59.51 0 1.02-.2 1.41-.59l7.78-7.78 2.81-2.81c.8-.78.8-2.07 0-2.86zM5.41 20L4 18.59l7.72-7.72 1.47 1.35L5.41 20z\"/>\n",
              "  </svg>\n",
              "      </button>\n",
              "      \n",
              "  <style>\n",
              "    .colab-df-container {\n",
              "      display:flex;\n",
              "      flex-wrap:wrap;\n",
              "      gap: 12px;\n",
              "    }\n",
              "\n",
              "    .colab-df-convert {\n",
              "      background-color: #E8F0FE;\n",
              "      border: none;\n",
              "      border-radius: 50%;\n",
              "      cursor: pointer;\n",
              "      display: none;\n",
              "      fill: #1967D2;\n",
              "      height: 32px;\n",
              "      padding: 0 0 0 0;\n",
              "      width: 32px;\n",
              "    }\n",
              "\n",
              "    .colab-df-convert:hover {\n",
              "      background-color: #E2EBFA;\n",
              "      box-shadow: 0px 1px 2px rgba(60, 64, 67, 0.3), 0px 1px 3px 1px rgba(60, 64, 67, 0.15);\n",
              "      fill: #174EA6;\n",
              "    }\n",
              "\n",
              "    [theme=dark] .colab-df-convert {\n",
              "      background-color: #3B4455;\n",
              "      fill: #D2E3FC;\n",
              "    }\n",
              "\n",
              "    [theme=dark] .colab-df-convert:hover {\n",
              "      background-color: #434B5C;\n",
              "      box-shadow: 0px 1px 3px 1px rgba(0, 0, 0, 0.15);\n",
              "      filter: drop-shadow(0px 1px 2px rgba(0, 0, 0, 0.3));\n",
              "      fill: #FFFFFF;\n",
              "    }\n",
              "  </style>\n",
              "\n",
              "      <script>\n",
              "        const buttonEl =\n",
              "          document.querySelector('#df-bf83c8a3-7bf4-4172-a2fb-05730ed31c24 button.colab-df-convert');\n",
              "        buttonEl.style.display =\n",
              "          google.colab.kernel.accessAllowed ? 'block' : 'none';\n",
              "\n",
              "        async function convertToInteractive(key) {\n",
              "          const element = document.querySelector('#df-bf83c8a3-7bf4-4172-a2fb-05730ed31c24');\n",
              "          const dataTable =\n",
              "            await google.colab.kernel.invokeFunction('convertToInteractive',\n",
              "                                                     [key], {});\n",
              "          if (!dataTable) return;\n",
              "\n",
              "          const docLinkHtml = 'Like what you see? Visit the ' +\n",
              "            '<a target=\"_blank\" href=https://colab.research.google.com/notebooks/data_table.ipynb>data table notebook</a>'\n",
              "            + ' to learn more about interactive tables.';\n",
              "          element.innerHTML = '';\n",
              "          dataTable['output_type'] = 'display_data';\n",
              "          await google.colab.output.renderOutput(dataTable, element);\n",
              "          const docLink = document.createElement('div');\n",
              "          docLink.innerHTML = docLinkHtml;\n",
              "          element.appendChild(docLink);\n",
              "        }\n",
              "      </script>\n",
              "    </div>\n",
              "  </div>\n",
              "  "
            ]
          },
          "metadata": {},
          "execution_count": 6
        }
      ],
      "source": [
        "df.head()"
      ]
    },
    {
      "cell_type": "code",
      "execution_count": null,
      "metadata": {
        "colab": {
          "base_uri": "https://localhost:8080/"
        },
        "id": "Wd9UfbvsSWJ5",
        "outputId": "1ca1eb21-df15-442a-9b11-d14f9405da5d"
      },
      "outputs": [
        {
          "output_type": "stream",
          "name": "stdout",
          "text": [
            "<class 'pandas.core.frame.DataFrame'>\n",
            "RangeIndex: 243497 entries, 0 to 243496\n",
            "Data columns (total 2 columns):\n",
            " #   Column  Non-Null Count   Dtype \n",
            "---  ------  --------------   ----- \n",
            " 0   Rating  243497 non-null  int64 \n",
            " 1   Review  243497 non-null  object\n",
            "dtypes: int64(1), object(1)\n",
            "memory usage: 3.7+ MB\n"
          ]
        }
      ],
      "source": [
        "df.info()"
      ]
    },
    {
      "cell_type": "code",
      "execution_count": null,
      "metadata": {
        "id": "0zmMhW2hwN1m"
      },
      "outputs": [],
      "source": [
        "df.Rating = df.Rating.map({1:0, 0:1})\n",
        "\n",
        "# hedef classımızı 1 yapıyoruz."
      ]
    },
    {
      "cell_type": "code",
      "execution_count": null,
      "metadata": {
        "colab": {
          "base_uri": "https://localhost:8080/"
        },
        "id": "0mrjCQ9wwSCs",
        "outputId": "019e4e37-c9e1-4116-b243-1390a771d5cf"
      },
      "outputs": [
        {
          "output_type": "execute_result",
          "data": {
            "text/plain": [
              "0    229821\n",
              "1     13676\n",
              "Name: Rating, dtype: int64"
            ]
          },
          "metadata": {},
          "execution_count": 9
        }
      ],
      "source": [
        "df.Rating.value_counts()"
      ]
    },
    {
      "cell_type": "code",
      "execution_count": null,
      "metadata": {
        "colab": {
          "base_uri": "https://localhost:8080/"
        },
        "id": "2l26CUKCSaig",
        "outputId": "bd48b967-e79b-441d-dda7-a4b7a91d354d"
      },
      "outputs": [
        {
          "output_type": "execute_result",
          "data": {
            "text/plain": [
              "0    0.943835\n",
              "1    0.056165\n",
              "Name: Rating, dtype: float64"
            ]
          },
          "metadata": {},
          "execution_count": 10
        }
      ],
      "source": [
        "df.Rating.value_counts(normalize=True)"
      ]
    },
    {
      "cell_type": "markdown",
      "metadata": {
        "id": "ErzHzxUOMP3F"
      },
      "source": [
        "## Tokenization"
      ]
    },
    {
      "cell_type": "code",
      "execution_count": null,
      "metadata": {
        "id": "amDd007iMP3F"
      },
      "outputs": [],
      "source": [
        "X = df['Review']\n",
        "y = df['Rating']"
      ]
    },
    {
      "cell_type": "code",
      "execution_count": null,
      "metadata": {
        "id": "3ltwlIS9MP3G"
      },
      "outputs": [],
      "source": [
        "num_words = 15001 # 1 fazlasını yazıyoruz. \n",
        "\n",
        "tokenizer = Tokenizer(num_words=num_words,) #filters='!\"#$%&()*+,-./:;<=>?@[\\\\]^_`{|}~\\t\\n1234567890'\n",
        "# Tokenizer fonksiyonu tüm textleri word tokenlerine ayırır. \n",
        "# num_words hyperparametresi tokenlerin numeric versiyona dönüştürülmesi aşamasında sadece corpusta en fazla geçen ilk 15.000 kelime(token)'nin numeric versiyona \n",
        "# dönüştürüleceğini diğer tokenlerin ignore edileceğini gösteriyor.\n",
        "# num_words'e None değeri atanırsa tüm kelimeler/tokenler numeric versiyona dönüştürülür. Ancak num_words'e None atandığında DL modeline data verilirken hata \n",
        "# döndürür. Bu sebeple num_words'e herzaman integer sayı atanmalıdır. Model kurma aşamasında detaylarına gireceğiz.\n",
        "\n",
        "# filters hyper_parametresiyle yapılacak olan temizlik işlemlerini düzenleyebiliyoruz."
      ]
    },
    {
      "cell_type": "code",
      "execution_count": null,
      "metadata": {
        "id": "7QnzlbfrMP3H"
      },
      "outputs": [],
      "source": [
        "tokenizer.fit_on_texts(X)\n",
        "\n",
        "# fit_on_texts, önce corpustaki textleri tokenlerine ayırır sonra da tüm unique tokenleri tespit edip kullanım sıklıklarına göre numaralandırır. \n",
        "# En sık kullanılan tokene 1 numarası verilir.\n",
        "# num_words= 15001 tanımladığımız için dönüşüm aşamasında 1 ile 15000 arasındaki numaraları alan tokenler kullanılacak diğerleri ignore edilecek.\n",
        "# Bu tokenlerin kullanım sıklıklarının sıralamasını görebilmek için aşağıda olduğu gibi word_index fonksiyonunu kullanmamız gerekecek."
      ]
    },
    {
      "cell_type": "markdown",
      "metadata": {
        "id": "qbBLA65iMP3I"
      },
      "source": [
        "## Creating word index"
      ]
    },
    {
      "cell_type": "code",
      "execution_count": null,
      "metadata": {
        "colab": {
          "base_uri": "https://localhost:8080/"
        },
        "id": "ujCeRckiMP3I",
        "outputId": "a8ab80d0-a8ba-4a51-c435-de9a189b39cb"
      },
      "outputs": [
        {
          "output_type": "execute_result",
          "data": {
            "text/plain": [
              "{'çok': 1,\n",
              " 'bir': 2,\n",
              " 've': 3,\n",
              " 'ürün': 4,\n",
              " 'bu': 5,\n",
              " 'iyi': 6,\n",
              " 'güzel': 7,\n",
              " 'için': 8,\n",
              " 'tavsiye': 9,\n",
              " 'ederim': 10,\n",
              " 'daha': 11,\n",
              " 'ama': 12,\n",
              " 'da': 13,\n",
              " 'gayet': 14,\n",
              " 'hızlı': 15,\n",
              " 'teşekkürler': 16,\n",
              " 'aldım': 17,\n",
              " 'de': 18,\n",
              " 'ürünü': 19,\n",
              " 'gibi': 20,\n",
              " 'yok': 21,\n",
              " 'uygun': 22,\n",
              " 'olarak': 23,\n",
              " 'kaliteli': 24,\n",
              " 'en': 25,\n",
              " '2': 26,\n",
              " 'kargo': 27,\n",
              " 'fiyat': 28,\n",
              " 'elime': 29,\n",
              " 'kadar': 30,\n",
              " 'ile': 31,\n",
              " 'göre': 32,\n",
              " 'geldi': 33,\n",
              " 'var': 34,\n",
              " 'hepsiburada': 35,\n",
              " 'ben': 36,\n",
              " 'gerçekten': 37,\n",
              " '1': 38,\n",
              " 'fiyata': 39,\n",
              " 'gün': 40,\n",
              " 'sonra': 41,\n",
              " 'cok': 42,\n",
              " 'kesinlikle': 43,\n",
              " 'telefon': 44,\n",
              " 'biraz': 45,\n",
              " 'hiç': 46,\n",
              " 'ulaştı': 47,\n",
              " 'memnun': 48,\n",
              " 'hem': 49,\n",
              " 'değil': 50,\n",
              " 'kullanışlı': 51,\n",
              " '3': 52,\n",
              " 'mükemmel': 53,\n",
              " 'oldu': 54,\n",
              " 'kullanıyorum': 55,\n",
              " 'önce': 56,\n",
              " 'sipariş': 57,\n",
              " 'tek': 58,\n",
              " 'her': 59,\n",
              " 'bence': 60,\n",
              " 'harika': 61,\n",
              " 'kalitesi': 62,\n",
              " 'bi': 63,\n",
              " 'ayrıca': 64,\n",
              " '5': 65,\n",
              " 'teşekkür': 66,\n",
              " 'fiyatı': 67,\n",
              " 'olması': 68,\n",
              " 'ne': 69,\n",
              " 'herkese': 70,\n",
              " 'bile': 71,\n",
              " 'uzun': 72,\n",
              " 'süper': 73,\n",
              " 'tam': 74,\n",
              " 'zaten': 75,\n",
              " 'fazla': 76,\n",
              " 'ilk': 77,\n",
              " 'o': 78,\n",
              " 'başarılı': 79,\n",
              " 'fakat': 80,\n",
              " 'memnunum': 81,\n",
              " 'ancak': 82,\n",
              " 'ediyorum': 83,\n",
              " 'şarj': 84,\n",
              " 'saat': 85,\n",
              " 'fiyatına': 86,\n",
              " 'oldukça': 87,\n",
              " 'hemen': 88,\n",
              " 'şekilde': 89,\n",
              " 'ses': 90,\n",
              " 'hepsi': 91,\n",
              " 'gerek': 92,\n",
              " 'rahat': 93,\n",
              " 'aynı': 94,\n",
              " '4': 95,\n",
              " 'şık': 96,\n",
              " 'verdim': 97,\n",
              " 'kolay': 98,\n",
              " 'diye': 99,\n",
              " 'ki': 100,\n",
              " 'sadece': 101,\n",
              " 'kaldım': 102,\n",
              " 'diğer': 103,\n",
              " 'büyük': 104,\n",
              " 'sorun': 105,\n",
              " 'alın': 106,\n",
              " 'burada': 107,\n",
              " 'kısa': 108,\n",
              " 'ürünün': 109,\n",
              " 'sorunsuz': 110,\n",
              " 'performans': 111,\n",
              " 'içinde': 112,\n",
              " 'olan': 113,\n",
              " 'günde': 114,\n",
              " 'olsun': 115,\n",
              " 'küçük': 116,\n",
              " 'urun': 117,\n",
              " '10': 118,\n",
              " 'benim': 119,\n",
              " 'başka': 120,\n",
              " 'iki': 121,\n",
              " 'olduğu': 122,\n",
              " 'teslimat': 123,\n",
              " 'com': 124,\n",
              " 'arkadaşlar': 125,\n",
              " 'sağlam': 126,\n",
              " 'oluyor': 127,\n",
              " 'teslim': 128,\n",
              " 'ettim': 129,\n",
              " 'zaman': 130,\n",
              " 'kalite': 131,\n",
              " 'almak': 132,\n",
              " 'az': 133,\n",
              " 'telefonu': 134,\n",
              " 'yeni': 135,\n",
              " 'cihaz': 136,\n",
              " 'marka': 137,\n",
              " 'son': 138,\n",
              " 'koku': 139,\n",
              " 'ise': 140,\n",
              " 'kullandım': 141,\n",
              " 'kokusu': 142,\n",
              " 'derim': 143,\n",
              " 'olduğunu': 144,\n",
              " 'özellikle': 145,\n",
              " 'beğendim': 146,\n",
              " 'sıkıntı': 147,\n",
              " 'ucuz': 148,\n",
              " 'rağmen': 149,\n",
              " 'geçti': 150,\n",
              " 'geliyor': 151,\n",
              " 'guzel': 152,\n",
              " 'bana': 153,\n",
              " 'ya': 154,\n",
              " 'ideal': 155,\n",
              " 'orjinal': 156,\n",
              " 'almıştım': 157,\n",
              " 'yeterli': 158,\n",
              " 'tane': 159,\n",
              " 'hediye': 160,\n",
              " 'sürede': 161,\n",
              " 'yani': 162,\n",
              " 'normal': 163,\n",
              " 'yaklaşık': 164,\n",
              " 'ediyor': 165,\n",
              " 'hafif': 166,\n",
              " 'bunu': 167,\n",
              " 'ekran': 168,\n",
              " 'aldığım': 169,\n",
              " 'veriyor': 170,\n",
              " '6': 171,\n",
              " 'yüksek': 172,\n",
              " 'tüm': 173,\n",
              " 'pişman': 174,\n",
              " 'tercih': 175,\n",
              " 'düşünmeden': 176,\n",
              " 'kötü': 177,\n",
              " 'düşünüyorum': 178,\n",
              " 'numara': 179,\n",
              " 'bi̇r': 180,\n",
              " 'süre': 181,\n",
              " 'kullanımı': 182,\n",
              " 'çıktı': 183,\n",
              " 'günü': 184,\n",
              " 'su': 185,\n",
              " 'adet': 186,\n",
              " 'şey': 187,\n",
              " 'hemde': 188,\n",
              " 'icin': 189,\n",
              " 'hizli': 190,\n",
              " 'çalışıyor': 191,\n",
              " 'ay': 192,\n",
              " 'hb': 193,\n",
              " 'hafta': 194,\n",
              " 'sesi': 195,\n",
              " 'alışveriş': 196,\n",
              " 'farklı': 197,\n",
              " 'kitap': 198,\n",
              " 'yine': 199,\n",
              " 'böyle': 200,\n",
              " 'zor': 201,\n",
              " 'alabilirsiniz': 202,\n",
              " 'hızı': 203,\n",
              " 'çünkü': 204,\n",
              " 'para': 205,\n",
              " 'ertesi': 206,\n",
              " 'bende': 207,\n",
              " 'kullanım': 208,\n",
              " 'sürekli': 209,\n",
              " 'duruyor': 210,\n",
              " 'aldim': 211,\n",
              " 'olur': 212,\n",
              " 'hoş': 213,\n",
              " 'artık': 214,\n",
              " 'yapıyor': 215,\n",
              " 'konusunda': 216,\n",
              " 'yorumlara': 217,\n",
              " 'gönderi': 218,\n",
              " 'olsa': 219,\n",
              " 'gücü': 220,\n",
              " 'şu': 221,\n",
              " 'vardı': 222,\n",
              " 'üründen': 223,\n",
              " 'malzeme': 224,\n",
              " 'biri': 225,\n",
              " 'pratik': 226,\n",
              " 'dışında': 227,\n",
              " 'defa': 228,\n",
              " 'kullandığım': 229,\n",
              " 'şimdi': 230,\n",
              " 'diş': 231,\n",
              " 'samsung': 232,\n",
              " 'onun': 233,\n",
              " 'bugün': 234,\n",
              " 'özelliği': 235,\n",
              " 'iş': 236,\n",
              " 'kurulumu': 237,\n",
              " 'tereddüt': 238,\n",
              " 'şarjı': 239,\n",
              " 'i̇lk': 240,\n",
              " '7': 241,\n",
              " 'ince': 242,\n",
              " 'gelen': 243,\n",
              " 'kullanmaya': 244,\n",
              " 'diyebilirim': 245,\n",
              " 'almayı': 246,\n",
              " 'pek': 247,\n",
              " 'aldık': 248,\n",
              " 'denedim': 249,\n",
              " '8': 250,\n",
              " 'tekrar': 251,\n",
              " 'çabuk': 252,\n",
              " 'karar': 253,\n",
              " 'kez': 254,\n",
              " 'sahip': 255,\n",
              " 'kendi': 256,\n",
              " 'basit': 257,\n",
              " 'dolayı': 258,\n",
              " 'derece': 259,\n",
              " 'veya': 260,\n",
              " 'kamera': 261,\n",
              " 'pil': 262,\n",
              " 'hiçbir': 263,\n",
              " 'öncelikle': 264,\n",
              " 'açısından': 265,\n",
              " 'iphone': 266,\n",
              " 'sonuç': 267,\n",
              " 'yanında': 268,\n",
              " 'sessiz': 269,\n",
              " 'pahalı': 270,\n",
              " 'işe': 271,\n",
              " 'gidiyor': 272,\n",
              " 'dan': 273,\n",
              " 'olmadı': 274,\n",
              " 'öyle': 275,\n",
              " 'tesekkurler': 276,\n",
              " 'bunun': 277,\n",
              " 'beni': 278,\n",
              " 'varsa': 279,\n",
              " 'yer': 280,\n",
              " 'gece': 281,\n",
              " 'zamanında': 282,\n",
              " 'yorum': 283,\n",
              " 'performansı': 284,\n",
              " 'parfüm': 285,\n",
              " 'evde': 286,\n",
              " 'belli': 287,\n",
              " 'eğer': 288,\n",
              " 'oyun': 289,\n",
              " 'ağır': 290,\n",
              " 'iyisi': 291,\n",
              " 'arada': 292,\n",
              " 'mutlaka': 293,\n",
              " 'zamanda': 294,\n",
              " 'usb': 295,\n",
              " 'ufak': 296,\n",
              " 'üzerinde': 297,\n",
              " 'hatta': 298,\n",
              " 'fark': 299,\n",
              " 'gönül': 300,\n",
              " 'paketleme': 301,\n",
              " 'eşim': 302,\n",
              " 'alacak': 303,\n",
              " '15': 304,\n",
              " 'gereken': 305,\n",
              " 'doğru': 306,\n",
              " 'eski': 307,\n",
              " 'herhangi': 308,\n",
              " 'aydır': 309,\n",
              " 'tl': 310,\n",
              " 'kalıcı': 311,\n",
              " 'rahatlıkla': 312,\n",
              " 'vs': 313,\n",
              " 'satın': 314,\n",
              " 'alınabilecek': 315,\n",
              " 'bundan': 316,\n",
              " 'farkı': 317,\n",
              " 'görüntü': 318,\n",
              " 'lazım': 319,\n",
              " 'gercekten': 320,\n",
              " 'şiddetle': 321,\n",
              " 'kullanmak': 322,\n",
              " 'kaçırmayın': 323,\n",
              " 'alırken': 324,\n",
              " 'kargoya': 325,\n",
              " 'yaşamadım': 326,\n",
              " 'mi': 327,\n",
              " 'yaptım': 328,\n",
              " 'prima': 329,\n",
              " 'birlikte': 330,\n",
              " 'gördüm': 331,\n",
              " 'gerekiyor': 332,\n",
              " 'telefonun': 333,\n",
              " 'ürünler': 334,\n",
              " 'ayrı': 335,\n",
              " 'önemli': 336,\n",
              " 'sayesinde': 337,\n",
              " 'bütün': 338,\n",
              " 'yıl': 339,\n",
              " 'gb': 340,\n",
              " 'alalı': 341,\n",
              " 'beklediğimden': 342,\n",
              " 'almaya': 343,\n",
              " 'yerde': 344,\n",
              " 'olmasına': 345,\n",
              " 'tv': 346,\n",
              " 'sabah': 347,\n",
              " 'devam': 348,\n",
              " 'kutu': 349,\n",
              " 'henüz': 350,\n",
              " 'falan': 351,\n",
              " 'sorunu': 352,\n",
              " 'tabi': 353,\n",
              " 'a': 354,\n",
              " '20': 355,\n",
              " 'bakarak': 356,\n",
              " 'sanırım': 357,\n",
              " 'hepsiburadaya': 358,\n",
              " 'kulaklık': 359,\n",
              " 'süresi': 360,\n",
              " 'hala': 361,\n",
              " 'muhteşem': 362,\n",
              " 'dikkat': 363,\n",
              " 'güvenilir': 364,\n",
              " 'rahatsız': 365,\n",
              " 'edilir': 366,\n",
              " 'çıkıyor': 367,\n",
              " 'alıp': 368,\n",
              " 'yüzden': 369,\n",
              " 'toz': 370,\n",
              " 'kere': 371,\n",
              " 'orijinal': 372,\n",
              " 'sağlıyor': 373,\n",
              " 'kamerası': 374,\n",
              " 'dün': 375,\n",
              " 'ürüne': 376,\n",
              " 'düşük': 377,\n",
              " 'spor': 378,\n",
              " 'i̇yi': 379,\n",
              " 'problem': 380,\n",
              " 'öneririm': 381,\n",
              " 'edildi': 382,\n",
              " 'plastik': 383,\n",
              " 'içerisinde': 384,\n",
              " 'makine': 385,\n",
              " 'beri': 386,\n",
              " 'fazlasıyla': 387,\n",
              " 'baya': 388,\n",
              " 'kullanımda': 389,\n",
              " '30': 390,\n",
              " 'tavsi̇ye': 391,\n",
              " 'an': 392,\n",
              " 'yalnız': 393,\n",
              " 'özellikleri': 394,\n",
              " 'on': 395,\n",
              " 'den': 396,\n",
              " 'satıcı': 397,\n",
              " 'ilgili': 398,\n",
              " 'genel': 399,\n",
              " 'oldum': 400,\n",
              " 'kaç': 401,\n",
              " 'etkili': 402,\n",
              " 'sıcak': 403,\n",
              " 'haftadır': 404,\n",
              " 'üstelik': 405,\n",
              " 'fiyatıda': 406,\n",
              " 'olmuş': 407,\n",
              " '24': 408,\n",
              " 'yada': 409,\n",
              " 'hep': 410,\n",
              " 'üst': 411,\n",
              " 'olabilir': 412,\n",
              " 'paket': 413,\n",
              " 'bazı': 414,\n",
              " 'almışım': 415,\n",
              " 'güçlü': 416,\n",
              " 'piyasada': 417,\n",
              " 'yerine': 418,\n",
              " 'arasında': 419,\n",
              " 'renk': 420,\n",
              " 'inanılmaz': 421,\n",
              " 'arkadaşlara': 422,\n",
              " 'paraya': 423,\n",
              " 'kurulum': 424,\n",
              " 'umarım': 425,\n",
              " 'sert': 426,\n",
              " 'kitabı': 427,\n",
              " 'ederi̇m': 428,\n",
              " 'olmuyor': 429,\n",
              " 'fena': 430,\n",
              " 'gitti': 431,\n",
              " 'servis': 432,\n",
              " 'altında': 433,\n",
              " 'üzerine': 434,\n",
              " 'nasıl': 435,\n",
              " 'birde': 436,\n",
              " 'ye': 437,\n",
              " 'gelince': 438,\n",
              " 'birşey': 439,\n",
              " 'note': 440,\n",
              " 'yorumları': 441,\n",
              " 'başladım': 442,\n",
              " 'olanlar': 443,\n",
              " 'ön': 444,\n",
              " '0': 445,\n",
              " 'dk': 446,\n",
              " 'üründe': 447,\n",
              " 'sanki': 448,\n",
              " 'kalitesini': 449,\n",
              " 'i̇yi̇': 450,\n",
              " 'sarj': 451,\n",
              " 'almadan': 452,\n",
              " 'etti': 453,\n",
              " 'alıyorum': 454,\n",
              " 'ev': 455,\n",
              " 'cihazı': 456,\n",
              " 'kullanıyoruz': 457,\n",
              " 'geç': 458,\n",
              " 'eşime': 459,\n",
              " 'görünce': 460,\n",
              " 'memnunuz': 461,\n",
              " 'yıldır': 462,\n",
              " 'edici': 463,\n",
              " 'bez': 464,\n",
              " 'arka': 465,\n",
              " 'saatte': 466,\n",
              " 'anda': 467,\n",
              " 'tamamen': 468,\n",
              " 'hizmet': 469,\n",
              " 'çekim': 470,\n",
              " 'herkes': 471,\n",
              " 'parmak': 472,\n",
              " 'akşam': 473,\n",
              " 'tutuyor': 474,\n",
              " 'geçen': 475,\n",
              " 'gore': 476,\n",
              " 'android': 477,\n",
              " 'elimize': 478,\n",
              " '12': 479,\n",
              " 'telefona': 480,\n",
              " 'temizlik': 481,\n",
              " 'görünüyor': 482,\n",
              " 'yumuşak': 483,\n",
              " 'kablo': 484,\n",
              " 'buradan': 485,\n",
              " '100': 486,\n",
              " 'kısmı': 487,\n",
              " 'size': 488,\n",
              " 'orta': 489,\n",
              " 'piyasadaki': 490,\n",
              " 'net': 491,\n",
              " 'hak': 492,\n",
              " 'yere': 493,\n",
              " 'günlük': 494,\n",
              " 'beğendi': 495,\n",
              " 'rahatlığıyla': 496,\n",
              " 'eder': 497,\n",
              " 'hız': 498,\n",
              " 'müzik': 499,\n",
              " 'kalın': 500,\n",
              " 'siyah': 501,\n",
              " 'urunu': 502,\n",
              " 'degil': 503,\n",
              " 'bedava': 504,\n",
              " 'istediğim': 505,\n",
              " 'oğlum': 506,\n",
              " 'saç': 507,\n",
              " 'güvenli': 508,\n",
              " 'kılıf': 509,\n",
              " 'onu': 510,\n",
              " 'yıldız': 511,\n",
              " 'yoksa': 512,\n",
              " 'çıkan': 513,\n",
              " 'hesaplı': 514,\n",
              " 'etmeden': 515,\n",
              " 'hava': 516,\n",
              " 'piyasaya': 517,\n",
              " 'kilo': 518,\n",
              " 'ışık': 519,\n",
              " 'neredeyse': 520,\n",
              " 'fotoğraf': 521,\n",
              " 'i̇çi̇n': 522,\n",
              " 'tşk': 523,\n",
              " 'belki': 524,\n",
              " 'olurdu': 525,\n",
              " 'kablosu': 526,\n",
              " 'bır': 527,\n",
              " 'mı': 528,\n",
              " 'gündür': 529,\n",
              " 'temiz': 530,\n",
              " 'garantili': 531,\n",
              " 'içine': 532,\n",
              " 'alınabilir': 533,\n",
              " 'herşey': 534,\n",
              " 'almanızı': 535,\n",
              " 'siparişi': 536,\n",
              " 'olmaz': 537,\n",
              " 'keşke': 538,\n",
              " 'kendini': 539,\n",
              " 'olacak': 540,\n",
              " 'yakın': 541,\n",
              " 'rengi': 542,\n",
              " 'gun': 543,\n",
              " 'süpürge': 544,\n",
              " 'traş': 545,\n",
              " 'çift': 546,\n",
              " 'şuan': 547,\n",
              " 'gönderim': 548,\n",
              " 'buna': 549,\n",
              " 'motor': 550,\n",
              " 'birkaç': 551,\n",
              " 'hoşuma': 552,\n",
              " 'tasarımı': 553,\n",
              " 'kaldık': 554,\n",
              " 'verdiğim': 555,\n",
              " 'hic': 556,\n",
              " 'değer': 557,\n",
              " 'yağ': 558,\n",
              " 'ekonomik': 559,\n",
              " 'dedim': 560,\n",
              " 'tatmin': 561,\n",
              " 'isteyenlere': 562,\n",
              " 'içinden': 563,\n",
              " 'araştırdım': 564,\n",
              " 'oda': 565,\n",
              " 'yıllardır': 566,\n",
              " 'mevcut': 567,\n",
              " 'kızım': 568,\n",
              " 'kalıyor': 569,\n",
              " 'yapmak': 570,\n",
              " 'buldum': 571,\n",
              " 'şimdilik': 572,\n",
              " 'yanı': 573,\n",
              " 'makina': 574,\n",
              " 'görüyor': 575,\n",
              " 'model': 576,\n",
              " 'kargoda': 577,\n",
              " 'kaldı': 578,\n",
              " '9': 579,\n",
              " 'üstünde': 580,\n",
              " 'avantaj': 581,\n",
              " 'sizi': 582,\n",
              " 'alet': 583,\n",
              " 'müthiş': 584,\n",
              " 'metal': 585,\n",
              " 'ürünleri': 586,\n",
              " 'mouse': 587,\n",
              " 'beraber': 588,\n",
              " 'bebek': 589,\n",
              " 'kullanıyordum': 590,\n",
              " 'geri': 591,\n",
              " 'ederiz': 592,\n",
              " 'başta': 593,\n",
              " 'makul': 594,\n",
              " 'olmazsınız': 595,\n",
              " 'apple': 596,\n",
              " 'yaptı': 597,\n",
              " 'okudum': 598,\n",
              " 'elimde': 599,\n",
              " 'görür': 600,\n",
              " 'olduğundan': 601,\n",
              " 'fiyatının': 602,\n",
              " 'açık': 603,\n",
              " 'üzerinden': 604,\n",
              " 'aşırı': 605,\n",
              " 'özellik': 606,\n",
              " 'e': 607,\n",
              " 'olanlara': 608,\n",
              " 'izi': 609,\n",
              " 'garanti': 610,\n",
              " 'film': 611,\n",
              " 'biz': 612,\n",
              " 'yavaş': 613,\n",
              " 'ucuza': 614,\n",
              " 'bişey': 615,\n",
              " 'tartışılmaz': 616,\n",
              " 'sene': 617,\n",
              " 'super': 618,\n",
              " 'site': 619,\n",
              " 'birçok': 620,\n",
              " 'ücretsiz': 621,\n",
              " 'sonunda': 622,\n",
              " 'ısınma': 623,\n",
              " 'saati': 624,\n",
              " 'batarya': 625,\n",
              " 'kapalı': 626,\n",
              " 'olumsuz': 627,\n",
              " 'alan': 628,\n",
              " 'hediyesi': 629,\n",
              " 'kullaniyorum': 630,\n",
              " 'yapmıyor': 631,\n",
              " 'eve': 632,\n",
              " 'evet': 633,\n",
              " 'önceki': 634,\n",
              " 'sık': 635,\n",
              " 'hakkını': 636,\n",
              " 'beklediğim': 637,\n",
              " 'kelimeyle': 638,\n",
              " 'beyaz': 639,\n",
              " 'zorunda': 640,\n",
              " 'üç': 641,\n",
              " 'kat': 642,\n",
              " 'telefonda': 643,\n",
              " 'tasarım': 644,\n",
              " 'dakika': 645,\n",
              " 'etmek': 646,\n",
              " 'uyumlu': 647,\n",
              " 'önceden': 648,\n",
              " 'olunca': 649,\n",
              " 'severek': 650,\n",
              " 'isteyenler': 651,\n",
              " 'diyorum': 652,\n",
              " 'çanta': 653,\n",
              " 'el': 654,\n",
              " 'istedim': 655,\n",
              " 'iyiki': 656,\n",
              " 'kullanın': 657,\n",
              " 'yoktu': 658,\n",
              " 'sıkıntısı': 659,\n",
              " 'ikinci': 660,\n",
              " 'yorumlarda': 661,\n",
              " 'çekiyor': 662,\n",
              " 'bilmiyorum': 663,\n",
              " 'kullanma': 664,\n",
              " 'araç': 665,\n",
              " 'edin': 666,\n",
              " 'görüntüsü': 667,\n",
              " 'firma': 668,\n",
              " 'alıyor': 669,\n",
              " 'hepsi̇burada': 670,\n",
              " 'alt': 671,\n",
              " 'olmadan': 672,\n",
              " 'bazen': 673,\n",
              " 'dayanıklı': 674,\n",
              " 'olmaması': 675,\n",
              " 'ona': 676,\n",
              " 'iade': 677,\n",
              " 'fiyatlı': 678,\n",
              " 'internet': 679,\n",
              " 'geniş': 680,\n",
              " 'philips': 681,\n",
              " 'koltuk': 682,\n",
              " 'elimdeydi': 683,\n",
              " 'kullanan': 684,\n",
              " 'yaparken': 685,\n",
              " 'derecede': 686,\n",
              " 'asla': 687,\n",
              " '16': 688,\n",
              " 'kalitede': 689,\n",
              " 'taktım': 690,\n",
              " 'resmen': 691,\n",
              " 'eden': 692,\n",
              " 'halde': 693,\n",
              " 'merhaba': 694,\n",
              " 'mukemmel': 695,\n",
              " 'hassas': 696,\n",
              " 'başladı': 697,\n",
              " 'zarar': 698,\n",
              " 'kalitesiz': 699,\n",
              " 'aylık': 700,\n",
              " 'açıkçası': 701,\n",
              " 'mutlu': 702,\n",
              " 'alin': 703,\n",
              " 'yeri': 704,\n",
              " 'ram': 705,\n",
              " 'neden': 706,\n",
              " 'eksiksiz': 707,\n",
              " 'paketlenmiş': 708,\n",
              " 'idi': 709,\n",
              " 'idare': 710,\n",
              " 'iyiydi': 711,\n",
              " 'olabilirdi': 712,\n",
              " 'yarıyor': 713,\n",
              " 'gerekli': 714,\n",
              " 'olduğum': 715,\n",
              " '50': 716,\n",
              " 'parfümü': 717,\n",
              " 'buradaya': 718,\n",
              " 'kelime': 719,\n",
              " 'herkesin': 720,\n",
              " 'olmasi': 721,\n",
              " 'ara': 722,\n",
              " 'verildi': 723,\n",
              " 'yoğun': 724,\n",
              " 'etkisi': 725,\n",
              " 'vermeye': 726,\n",
              " 'saçlarım': 727,\n",
              " 'siz': 728,\n",
              " 'kullanıyor': 729,\n",
              " 'b': 730,\n",
              " '40': 731,\n",
              " 'zamandır': 732,\n",
              " 'yapan': 733,\n",
              " 'olmayan': 734,\n",
              " 'yorumlar': 735,\n",
              " 'ayrica': 736,\n",
              " 'yinede': 737,\n",
              " 'kendim': 738,\n",
              " 'ulasti': 739,\n",
              " 'hafıza': 740,\n",
              " 'etmiyor': 741,\n",
              " 'almış': 742,\n",
              " 'yapılmış': 743,\n",
              " 'verdikten': 744,\n",
              " 'kendime': 745,\n",
              " 'yedek': 746,\n",
              " 'düşünenlere': 747,\n",
              " 'durum': 748,\n",
              " 'sonuçta': 749,\n",
              " 'yerden': 750,\n",
              " 'etmiyorum': 751,\n",
              " 'video': 752,\n",
              " 'çekiş': 753,\n",
              " 'cuma': 754,\n",
              " 'cam': 755,\n",
              " 'uygulama': 756,\n",
              " 'içi': 757,\n",
              " 'işi': 758,\n",
              " 'eksik': 759,\n",
              " 'ihtiyacı': 760,\n",
              " 'eksiği': 761,\n",
              " 'faydalı': 762,\n",
              " 'göz': 763,\n",
              " 'deneme': 764,\n",
              " 'isteyen': 765,\n",
              " 'acaba': 766,\n",
              " 'kısacası': 767,\n",
              " 'kullanabilirsiniz': 768,\n",
              " 'merak': 769,\n",
              " 'temizliyor': 770,\n",
              " 'ürünle': 771,\n",
              " 'rahatlığı': 772,\n",
              " 'p': 773,\n",
              " 'türkiye': 774,\n",
              " 'hepsiburadadan': 775,\n",
              " 'aldı': 776,\n",
              " 'görmedim': 777,\n",
              " 'test': 778,\n",
              " 'ana': 779,\n",
              " 'aldıktan': 780,\n",
              " 'aleti': 781,\n",
              " 'şimdiye': 782,\n",
              " 'yapıyorum': 783,\n",
              " 'olumlu': 784,\n",
              " 'hakkında': 785,\n",
              " 'piyasa': 786,\n",
              " 'ekranı': 787,\n",
              " 'mümkün': 788,\n",
              " 'kış': 789,\n",
              " 'siparis': 790,\n",
              " 'd': 791,\n",
              " 'malı': 792,\n",
              " 'elinize': 793,\n",
              " 'km': 794,\n",
              " 'gösteriyor': 795,\n",
              " 'haricinde': 796,\n",
              " 'donma': 797,\n",
              " 'denemek': 798,\n",
              " 'türlü': 799,\n",
              " 'i': 800,\n",
              " 'alacaklara': 801,\n",
              " 'elde': 802,\n",
              " 'dış': 803,\n",
              " 'dokunmatik': 804,\n",
              " 'gerçek': 805,\n",
              " 'tabiki': 806,\n",
              " 'ürünlere': 807,\n",
              " 'boyutu': 808,\n",
              " 'hissi': 809,\n",
              " 'söyleyebilirim': 810,\n",
              " 'cabası': 811,\n",
              " 'kaldim': 812,\n",
              " 'emiş': 813,\n",
              " 'kanal': 814,\n",
              " 'takip': 815,\n",
              " 'problemi': 816,\n",
              " 'tavsiyem': 817,\n",
              " 'kargolama': 818,\n",
              " 'aslında': 819,\n",
              " 'dahi': 820,\n",
              " 'yardımcı': 821,\n",
              " 'akıcı': 822,\n",
              " 'ütü': 823,\n",
              " 'konuda': 824,\n",
              " 'hayırlı': 825,\n",
              " 'değilim': 826,\n",
              " 'herkeze': 827,\n",
              " 'karşı': 828,\n",
              " 'markanın': 829,\n",
              " 'kutusu': 830,\n",
              " 'elektrik': 831,\n",
              " 'yaz': 832,\n",
              " 'yerli': 833,\n",
              " 'tavsıye': 834,\n",
              " 'emin': 835,\n",
              " 's': 836,\n",
              " 'lg': 837,\n",
              " 'once': 838,\n",
              " 'araba': 839,\n",
              " 'pazartesi': 840,\n",
              " 'f': 841,\n",
              " 'kullandıktan': 842,\n",
              " 'yatak': 843,\n",
              " 'zarif': 844,\n",
              " 'gelir': 845,\n",
              " 'beden': 846,\n",
              " 'özel': 847,\n",
              " 'ciddi': 848,\n",
              " 'kontrol': 849,\n",
              " 'olmak': 850,\n",
              " 'i̇ki': 851,\n",
              " 'zamanla': 852,\n",
              " 'fayda': 853,\n",
              " 'istiyorsanız': 854,\n",
              " 'bağlantı': 855,\n",
              " 'sıfır': 856,\n",
              " 'çıkmadı': 857,\n",
              " 'ayni': 858,\n",
              " 'parasını': 859,\n",
              " 'fön': 860,\n",
              " 'anladım': 861,\n",
              " 'düzgün': 862,\n",
              " 'olmadığı': 863,\n",
              " 'fiyatını': 864,\n",
              " 'kibar': 865,\n",
              " 'veren': 866,\n",
              " 'sağlıklı': 867,\n",
              " 'birisi': 868,\n",
              " 'soğuk': 869,\n",
              " 'montaj': 870,\n",
              " 'klasik': 871,\n",
              " 'parça': 872,\n",
              " 'yarım': 873,\n",
              " 'telefondan': 874,\n",
              " 'okuma': 875,\n",
              " 'makinesi': 876,\n",
              " 'verilen': 877,\n",
              " 'düzenli': 878,\n",
              " 'düşünmeyin': 879,\n",
              " 'kullanılabilir': 880,\n",
              " 'koruyucu': 881,\n",
              " 'anneme': 882,\n",
              " 'hale': 883,\n",
              " 'ömrü': 884,\n",
              " 'kalitesine': 885,\n",
              " 'bulmak': 886,\n",
              " 'kullanmadım': 887,\n",
              " 'saglam': 888,\n",
              " 'normalde': 889,\n",
              " 'cm': 890,\n",
              " 'xiaomi': 891,\n",
              " 'beklemeyin': 892,\n",
              " 'çoğu': 893,\n",
              " 'pili': 894,\n",
              " 'çocuk': 895,\n",
              " 'bakımından': 896,\n",
              " 'birebir': 897,\n",
              " 'yazma': 898,\n",
              " 'boyu': 899,\n",
              " 'hareket': 900,\n",
              " 'siteden': 901,\n",
              " 'cihazın': 902,\n",
              " 'led': 903,\n",
              " 'tahmin': 904,\n",
              " 'kapak': 905,\n",
              " 'bilgisayar': 906,\n",
              " 'ısınıyor': 907,\n",
              " 'eksi': 908,\n",
              " 'gelmesi': 909,\n",
              " 'kalmadı': 910,\n",
              " 'begendim': 911,\n",
              " 'kullanisli': 912,\n",
              " 'verip': 913,\n",
              " 'günden': 914,\n",
              " 'kaçmaz': 915,\n",
              " 'sürükleyici': 916,\n",
              " 'sonucu': 917,\n",
              " 'markası': 918,\n",
              " 'indirim': 919,\n",
              " 'oranı': 920,\n",
              " 'arkadaşım': 921,\n",
              " 'telefonum': 922,\n",
              " 'temizliği': 923,\n",
              " 'şarjlı': 924,\n",
              " 'kullanırken': 925,\n",
              " 'zayıf': 926,\n",
              " 'tesekkur': 927,\n",
              " 'çıkarıyor': 928,\n",
              " 'karşıladı': 929,\n",
              " 'sistemi': 930,\n",
              " 'akıllı': 931,\n",
              " 'ortalama': 932,\n",
              " 'direk': 933,\n",
              " 'alınır': 934,\n",
              " 'olsaydı': 935,\n",
              " 'arkadaslar': 936,\n",
              " 'profesyonel': 937,\n",
              " 'boşuna': 938,\n",
              " 'hd': 939,\n",
              " 'sony': 940,\n",
              " 'iç': 941,\n",
              " 'ekstra': 942,\n",
              " 'yi': 943,\n",
              " 'kuru': 944,\n",
              " 'sonrası': 945,\n",
              " 'almayın': 946,\n",
              " 'lik': 947,\n",
              " 'kusursuz': 948,\n",
              " 'başlık': 949,\n",
              " 'seviyede': 950,\n",
              " 'bluetooth': 951,\n",
              " 'kullanmıştım': 952,\n",
              " 'burda': 953,\n",
              " 'genelde': 954,\n",
              " 'kokuyu': 955,\n",
              " 'olacağını': 956,\n",
              " 'siparişim': 957,\n",
              " 'burdan': 958,\n",
              " 'kampanya': 959,\n",
              " 'nin': 960,\n",
              " 'olanı': 961,\n",
              " 'vestel': 962,\n",
              " 'alacağım': 963,\n",
              " 'tarafı': 964,\n",
              " 'insan': 965,\n",
              " 'artı': 966,\n",
              " 'paketi': 967,\n",
              " 'ayarı': 968,\n",
              " 'karşılıyor': 969,\n",
              " 'üstüne': 970,\n",
              " 'premium': 971,\n",
              " 'kalıcılığı': 972,\n",
              " 'eminim': 973,\n",
              " 'olup': 974,\n",
              " 'ürünlerden': 975,\n",
              " 'malzemesi': 976,\n",
              " 'mavi': 977,\n",
              " 'buradaki': 978,\n",
              " 'markalara': 979,\n",
              " 'parlak': 980,\n",
              " 'söz': 981,\n",
              " 'ergonomik': 982,\n",
              " 'yaptığım': 983,\n",
              " 'kendisi': 984,\n",
              " 'düşünen': 985,\n",
              " 'hızlıydı': 986,\n",
              " 'kasma': 987,\n",
              " 'fiyatta': 988,\n",
              " 'enerji': 989,\n",
              " 'kolayca': 990,\n",
              " 'yan': 991,\n",
              " 'pc': 992,\n",
              " '00': 993,\n",
              " 'bol': 994,\n",
              " 'kablosuz': 995,\n",
              " 'full': 996,\n",
              " 'işinizi': 997,\n",
              " 'modeli': 998,\n",
              " 'oturuyor': 999,\n",
              " 'kişi': 1000,\n",
              " ...}"
            ]
          },
          "metadata": {},
          "execution_count": 14
        }
      ],
      "source": [
        "tokenizer.word_index\n",
        "\n",
        "# word_index corpustaki tokenleri kullanım sıklıklarına göre sıralar."
      ]
    },
    {
      "cell_type": "code",
      "execution_count": null,
      "metadata": {
        "colab": {
          "base_uri": "https://localhost:8080/"
        },
        "id": "01oWtDTTMP3J",
        "outputId": "13fa577a-762e-4771-bbb6-90dc7d42e4c1"
      },
      "outputs": [
        {
          "output_type": "execute_result",
          "data": {
            "text/plain": [
              "217983"
            ]
          },
          "metadata": {},
          "execution_count": 16
        }
      ],
      "source": [
        "len(tokenizer.word_index)\n",
        "# corpusumuzda toplam 217983 adet unique token var. "
      ]
    },
    {
      "cell_type": "markdown",
      "metadata": {
        "id": "1sENSxrzMP3J"
      },
      "source": [
        "## Converting tokens to numeric"
      ]
    },
    {
      "cell_type": "code",
      "execution_count": null,
      "metadata": {
        "id": "OL-LESXtMP3J"
      },
      "outputs": [],
      "source": [
        "X_num_tokens = tokenizer.texts_to_sequences(X)\n",
        "\n",
        "# texts_to_sequences fonksiyonu ile datamızın her bir document/satırında bulunan tüm tokenler word_index'teki kullanım sıklıklarını \n",
        "# gösteren numaralara göre dönüştürülür (num_words=15001 olduğundan sadece en sık kullanılan ilk 15000 token kullanılacak). \n",
        "\n",
        "# örnek: \"Bu ürün çok güzel tavsiye ederim\" yorumu --> Bu: 5, ürün: 4, çok: 1, güzel: 7, tavsiye: 9, ederim: 10 olacak şekilde [5, 4, 1, 7, 9, 10] vektörüne dönüştürülür.\n",
        "# Bu dönüşümlerin corpusta en sık geçen ilk 15.000 tokene göre yapıldığını unutmayın. Eğer \"ederim\" tokeni 15.001 'inci veya daha büyük sayıdaki bir token olsaydı dönüşüm\n",
        "# esnasında \"ederim\" tokeni ignore edilecek ve elde ettiğimiz vektör [5, 4, 1, 7, 9] şeklinde olacaktı."
      ]
    },
    {
      "cell_type": "code",
      "source": [
        "X[:2]"
      ],
      "metadata": {
        "colab": {
          "base_uri": "https://localhost:8080/"
        },
        "id": "C4mQrtswiz_5",
        "outputId": "90e69020-c221-4ba7-ab0e-bcbe5ca658f9"
      },
      "execution_count": null,
      "outputs": [
        {
          "output_type": "execute_result",
          "data": {
            "text/plain": [
              "0          3 yıldır tık demedi. :)\n",
              "1    3 yıldır kullanıyorum müthiş \n",
              "Name: Review, dtype: object"
            ]
          },
          "metadata": {},
          "execution_count": 18
        }
      ]
    },
    {
      "cell_type": "code",
      "source": [
        "X_num_tokens[:2]\n",
        "\n",
        "# ilk iki yorumun numeric vektörlerini görüyoruz."
      ],
      "metadata": {
        "colab": {
          "base_uri": "https://localhost:8080/"
        },
        "id": "E4_b640FsRfd",
        "outputId": "d1c66544-0e18-48b9-e31f-c7bb9db5d26c"
      },
      "execution_count": null,
      "outputs": [
        {
          "output_type": "execute_result",
          "data": {
            "text/plain": [
              "[[52, 462, 1617, 4510], [52, 462, 55, 584]]"
            ]
          },
          "metadata": {},
          "execution_count": 19
        }
      ]
    },
    {
      "cell_type": "code",
      "execution_count": null,
      "metadata": {
        "colab": {
          "base_uri": "https://localhost:8080/",
          "height": 54
        },
        "id": "UR0ED18aMP3K",
        "outputId": "d03372b2-26ac-4209-89a5-8be4b9d94218"
      },
      "outputs": [
        {
          "output_type": "execute_result",
          "data": {
            "text/plain": [
              "'Logitech ürünlerinin geneli kalite olarak çok iyidir. Adedini tam saymadım ama 10 un üzerinde kendime akrabalarıma arkadaşlarıma almışımdır hepside memnunlar. İhtiyacı olan kaçırmasın başkada ürün aramasın derim.'"
            ],
            "application/vnd.google.colaboratory.intrinsic+json": {
              "type": "string"
            }
          },
          "metadata": {},
          "execution_count": 20
        }
      ],
      "source": [
        "X[105]"
      ]
    },
    {
      "cell_type": "code",
      "execution_count": null,
      "metadata": {
        "colab": {
          "base_uri": "https://localhost:8080/"
        },
        "id": "sFpOQBoqMP3K",
        "outputId": "9538252d-920e-4ef7-f9bd-0e15a0ff4c6e"
      },
      "outputs": [
        {
          "output_type": "stream",
          "name": "stdout",
          "text": [
            "[1816, 5360, 131, 23, 1, 1849, 74, 12, 118, 1533, 297, 745, 3216, 13402, 6326, 5030, 2463, 113, 2534, 8858, 4, 143]\n"
          ]
        }
      ],
      "source": [
        "print(X_num_tokens[105])\n",
        "\n",
        "# 105'inci indexdeki yorum aşağıdaki gibi numeric versiyona dönüştürüldü."
      ]
    },
    {
      "cell_type": "markdown",
      "metadata": {
        "id": "hMRq6Oh90GXq"
      },
      "source": [
        "## Maximum number of tokens for all documents"
      ]
    },
    {
      "cell_type": "code",
      "execution_count": null,
      "metadata": {
        "colab": {
          "base_uri": "https://localhost:8080/"
        },
        "id": "h8qwAwEHMP3L",
        "outputId": "300442e5-07fe-4a94-a9ee-490aaa4b43d9"
      },
      "outputs": [
        {
          "output_type": "execute_result",
          "data": {
            "text/plain": [
              "22"
            ]
          },
          "metadata": {},
          "execution_count": 22
        }
      ],
      "source": [
        "len(X_num_tokens[105])\n",
        "\n",
        "# 105. yorum 22 tokenden oluşuyor."
      ]
    },
    {
      "cell_type": "code",
      "execution_count": null,
      "metadata": {
        "colab": {
          "base_uri": "https://localhost:8080/"
        },
        "id": "1E-ySfDiMP3M",
        "outputId": "f089872b-88be-4d6b-deef-aba3fa6d37ef"
      },
      "outputs": [
        {
          "output_type": "execute_result",
          "data": {
            "text/plain": [
              "18"
            ]
          },
          "metadata": {},
          "execution_count": 23
        }
      ],
      "source": [
        "len(X_num_tokens[106])\n",
        "\n",
        "# 106. yorum 22 tokenden oluşuyor."
      ]
    },
    {
      "cell_type": "code",
      "execution_count": null,
      "metadata": {
        "colab": {
          "base_uri": "https://localhost:8080/"
        },
        "id": "mOQfFfutfMTn",
        "outputId": "70fc8048-92d6-4b80-db2f-100c278ed7e5"
      },
      "outputs": [
        {
          "output_type": "execute_result",
          "data": {
            "text/plain": [
              "88"
            ]
          },
          "metadata": {},
          "execution_count": 24
        }
      ],
      "source": [
        "len(X_num_tokens[6150])\n",
        "\n",
        "# ML/DL modelleri kendisine verilecek olan tüm datanın aynı boyutlarda olmasını ister. Ancak gördüğünüz gibi tüm yorumların boyutları\n",
        "# biribirinden farklı."
      ]
    },
    {
      "cell_type": "code",
      "execution_count": null,
      "metadata": {
        "id": "dp7-tP7MMP3M"
      },
      "outputs": [],
      "source": [
        "num_tokens = [len(sen_tokens) for sen_tokens in X_num_tokens]\n",
        "num_tokens = np.array(num_tokens)\n",
        "\n",
        "\n",
        "# öncelikle corpustaki tüm yorumların boyutlarını bir liste içine alıp num_tokens değişkenine atıyoruz. \n",
        "# Aggrigation fonksiyonlarını pratik bir şekilde arreylere uygulanabildiği için listeyi arreye dönüştürüyoruz."
      ]
    },
    {
      "cell_type": "code",
      "execution_count": null,
      "metadata": {
        "colab": {
          "base_uri": "https://localhost:8080/"
        },
        "id": "9hO5Jgp8VG5B",
        "outputId": "fa4a916d-a2a1-435d-b62e-b21682c4f266"
      },
      "outputs": [
        {
          "output_type": "execute_result",
          "data": {
            "text/plain": [
              "array([ 4,  4, 66, ...,  4, 10, 38])"
            ]
          },
          "metadata": {},
          "execution_count": 26
        }
      ],
      "source": [
        "num_tokens\n",
        "\n",
        "# her bir yorumun/documentin kaç tokenden oluştuğunu görüyoruz."
      ]
    },
    {
      "cell_type": "code",
      "execution_count": null,
      "metadata": {
        "colab": {
          "base_uri": "https://localhost:8080/"
        },
        "id": "4mIHsbiDMP3N",
        "outputId": "b2b242e6-6e5f-4683-b313-a4cfeb0f8e9c"
      },
      "outputs": [
        {
          "output_type": "execute_result",
          "data": {
            "text/plain": [
              "21.361105064949466"
            ]
          },
          "metadata": {},
          "execution_count": 27
        }
      ],
      "source": [
        "num_tokens.mean()\n",
        "\n",
        "# tüm yorum boyutlarının ortalamsını alıyoruz. \n",
        "# Tüm yorumları bu sayıya sabitleyebilir miyiz? Ya da başka sayı mı seçmeliyiz?"
      ]
    },
    {
      "cell_type": "code",
      "execution_count": null,
      "metadata": {
        "colab": {
          "base_uri": "https://localhost:8080/"
        },
        "id": "c-iTNs-0MP3N",
        "outputId": "37ccb6a8-e6a8-491e-ce81-438066d10dd5"
      },
      "outputs": [
        {
          "output_type": "execute_result",
          "data": {
            "text/plain": [
              "298"
            ]
          },
          "metadata": {},
          "execution_count": 28
        }
      ],
      "source": [
        "num_tokens.max()\n",
        "\n",
        "# en uzun yorumun 298 tokenden oluştuğunu gördük. "
      ]
    },
    {
      "cell_type": "code",
      "execution_count": null,
      "metadata": {
        "colab": {
          "base_uri": "https://localhost:8080/"
        },
        "id": "Wdpbr6TPMP3O",
        "outputId": "d024bfb6-5214-4e39-d268-c60f55b71ad0"
      },
      "outputs": [
        {
          "output_type": "execute_result",
          "data": {
            "text/plain": [
              "21941"
            ]
          },
          "metadata": {},
          "execution_count": 29
        }
      ],
      "source": [
        "num_tokens.argmax() \n",
        "\n",
        "# listedeki en uzun yorumun indexini argmax ile bulabiliyoruz."
      ]
    },
    {
      "cell_type": "code",
      "execution_count": null,
      "metadata": {
        "colab": {
          "base_uri": "https://localhost:8080/",
          "height": 127
        },
        "id": "bv29eaR2MP3P",
        "outputId": "58d11517-f9e8-44ce-9036-c00475cf5666"
      },
      "outputs": [
        {
          "output_type": "execute_result",
          "data": {
            "text/plain": [
              "'Özellikle bu kısma yazıyorum iyice okuyunuz,cihazın hızı çok iyi.Isınma normal boyutlarda.Kamerası elinizi sabit tutarsanız ve gündüz çok net gece ise çok net çekmez.Görüntülü konuşma özelliği yok ancak uygulama ile olur,anten çekimi gayet iyi.Parmak izi okuyucusu gayet hızlı bazen tuşu silmenizi istiyor ve okuyamıyor kirden vs...Ön kamera da tatmin edici,çekim esnasında ekran beyaz ışık vererek flaş görevi görür.Batarya bana 1 hafta gidiyor sık kullanımda ise 2-3 gün gidiyor.Hızlı şarj 1 saatte doluyor , şekilleri ele oturuyor ve şık bir görüntü var.Telefonu aldığım gün gittim ve ilk girdiğim yerden ekran koruyucu ve kılıf buldum.Kulaklık sesi çok net ve yüksek ancak kendi hoparlörü biraz zayıf sesi.Ekrana bakarken açık kalma özelliği yok.Diğer akıllı cihaz özellikleri %90 ı bu cihazda mevcut.Güç tasarrufu 2 ayrı modu var ve çok başarılı çalışıyor.4gb ram var genelde yarısı boş kalıyor.Bir de yeni cihazların çoğu titreşimi az ve sesi de az çıkıyor.Bu cihaz da içine dahil...Bu cihazlar güncelleme almaz ve rom bulunmuyormuş.Benim için güncelleme sorun olmaz -cihaz parasına göre s serisi ile yarışıyor çünkü.Biraz metal olmasından dolayı elden kolay kaysada duruşu ve gösterişi iyidir.Çift flaşı var arkada.Kısaca şöyle ki bu fiyata bu ürün alınır.5 aydır kullanıyorum kasma donma felan zaten olmaz,bataryası iyi,şekli iyi,özellikler de iyi....En büyük kafa karıştıran soru şu ki hadi cihaz arıza yaptı veya düştü ekranı kırıldı.Bunun bir servisi var,ithalatçı garantisi de var.Cihazın adı sanı belli...Parça bulanmaz tamir olmaz derseniz size kalmış.Zaten normal bir cihazı da düşürseniz farkedermi?.Güncelleme almaz diyorlar bu konuda düşünebilirsiniz.S serisi cihazlarla hızını kıyaslarsınız ama güncelleme ile araya fark koymuşlar.İki katı fiyata satılan cihazla farkı olmasa zaten olmaz değil mi?Almayı düşünenler başka bir cihazla kıyas yapacaksa yine  7pro veya 9 baksınlar.C5 pro da biraz boyutu kısa ve kibar....Sonuçta ömürlük değil alın fazla düşünmeyin'"
            ],
            "application/vnd.google.colaboratory.intrinsic+json": {
              "type": "string"
            }
          },
          "metadata": {},
          "execution_count": 30
        }
      ],
      "source": [
        "X[21941]"
      ]
    },
    {
      "cell_type": "code",
      "execution_count": null,
      "metadata": {
        "colab": {
          "base_uri": "https://localhost:8080/"
        },
        "id": "_W8AuJEcfe7s",
        "outputId": "7959475e-6142-44b7-bdef-7292ff84bcae"
      },
      "outputs": [
        {
          "output_type": "execute_result",
          "data": {
            "text/plain": [
              "298"
            ]
          },
          "metadata": {},
          "execution_count": 31
        }
      ],
      "source": [
        "len(X_num_tokens[21941])\n",
        "\n",
        "# Corpusumuzdaki tüm yorumları aynı boyuta getimemiz gerekir. Yorumlarda bir bilgi kaybı/ token kaybı olmaması için aslında\n",
        "# tüm yorumları en uzun yorumun uzunluğu olan 298'e sabitlenmesi tavsiye edilir. Ancak bu bize çalışma maaliyeti olarak geri dönecektir.\n",
        "# çok güçlü makinalarınız varsa tabii ki en uzun yorumun boyutuna göre tüm yorumları sabitlemek en mantıklısıdır.\n",
        "# Ancak, Makinalarımız kuvvetli değilse daha küçük boyutlarda sabitlememiz gerekiyor. Buna karar verirken corpusumuzdaki\n",
        "# yorumların %95 ve daha üzeri oranlarda bilgi/token kaybı olmayacak (%5 veya daha az token/bilgi kaybı olacak) şekilde sayıyı belirleyebiliyoruz."
      ]
    },
    {
      "cell_type": "code",
      "execution_count": null,
      "metadata": {
        "colab": {
          "base_uri": "https://localhost:8080/"
        },
        "id": "66JrdJCtMP3P",
        "outputId": "450b759d-e68d-445f-b253-c40b991fa4ab"
      },
      "outputs": [
        {
          "output_type": "stream",
          "name": "stdout",
          "text": [
            "[ True  True  True  True False False]\n",
            "4\n",
            "0.6666666666666666\n"
          ]
        }
      ],
      "source": [
        "list = [5, 10, 8, 9, 12, 15]\n",
        "print(np.array(list) <= 11)\n",
        "print(sum(np.array(list) <= 11))\n",
        "print(sum(np.array(list) <= 11)/len(list))\n",
        "\n",
        "# Örnek: Corpusumuzda 6 adet yorum olduğunu varsayalım. ilk yorum 5, ikinci yorum 10, üçüncü yorum 8, dördüncü yorum 9, beşinci\n",
        "# yorum 12 ve altıncı yorum 15 tokenden oluşuyor. \n",
        "\n",
        "# Tüm yorumları 11 tokene sabitlersem kaç yorumda bilgi/token kaybı olmayacağına bakalım.\n",
        "\n",
        "# ilk 4 yorumda herhangi bir bilgi/token kaybı olmayacak, ancak 5. yorumda 1 token, 6. yorumda 4 token kaybı olacak.\n",
        "# np.array(list) <= 11 kodu ile tüm yorumları 11 tokene sabitlediğimizde bilgi/token kaybı olmayan yorumların True olarak, \n",
        "# bilgi/token kaybı olanların False olarak döndürülmesini sağlıyorum --> [ True  True  True  True False False] \n",
        "# sum(np.array(list) <= 11) kodu ile öncelikle Truelar 1'e, Falselar 0'a dönüştürülür. Sonra da bu değerler toplanır. Çıkan\n",
        "# sonuç kaç yorumda bilgi/token kaybı olmadığını bize gösterir. \n",
        "# [True  True  True  True False False]-->[1 1 1 1 0 0]--> sum([1 1 1 1 0 0])-->4 --> cospusumdaki 6 yorumun 4'ünde bilgi/token\n",
        "# kaybı yok.\n",
        "# Elde ettiğimiz 4 sonucunu corpsumuzdaki tüm yorumların sayısına (len([5, 10, 8, 9, 12, 15])-->6) böldüğümüzde bize oran \n",
        "# olarak kaç yorumda bilgi/token kaybı olmadığını döndürür (4/6 --> 0.67). Biz bu oranın %95 ve üzeri olmasını istiyoruz."
      ]
    },
    {
      "cell_type": "code",
      "execution_count": null,
      "metadata": {
        "id": "-k5VZDpjMP3Q"
      },
      "outputs": [],
      "source": [
        "max_tokens = 61"
      ]
    },
    {
      "cell_type": "code",
      "execution_count": null,
      "metadata": {
        "colab": {
          "base_uri": "https://localhost:8080/"
        },
        "id": "Xal4WMNoMP3Q",
        "outputId": "1449aa9f-2842-4054-dcd1-4b3b91558b08"
      },
      "outputs": [
        {
          "output_type": "execute_result",
          "data": {
            "text/plain": [
              "0.9614451102066965"
            ]
          },
          "metadata": {},
          "execution_count": 34
        }
      ],
      "source": [
        "sum(num_tokens <= max_tokens) / len(num_tokens)\n",
        "\n",
        "# yukardaki örneğimizde olduğu gibi aynı denklemi burda da kuruyoruz. ve max_tokens kaç olursa oran %95'in üzerinde olur.\n",
        "# Manuel olarak bunun kontrolünü sağlıyoruz. 61 tokene sabitlersem corpusumdaki yorumların %96'sında bilgi/token kaybı \n",
        "# olmayacağını gördüm. Bu sebeple max_tokens = 61 olarak devam edeceğim."
      ]
    },
    {
      "cell_type": "code",
      "execution_count": null,
      "metadata": {
        "colab": {
          "base_uri": "https://localhost:8080/"
        },
        "id": "M2U7lFjMMP3R",
        "outputId": "042e3e57-e74e-4c12-a810-265e3853a80f"
      },
      "outputs": [
        {
          "output_type": "execute_result",
          "data": {
            "text/plain": [
              "234109"
            ]
          },
          "metadata": {},
          "execution_count": 35
        }
      ],
      "source": [
        "sum(num_tokens <= max_tokens)\n",
        "\n",
        "# max_tokens = 61 iken cospusumdaki toplam 243497 yorumun 234109 tanesinde bilgi/token kaybı olmuyor."
      ]
    },
    {
      "cell_type": "code",
      "execution_count": null,
      "metadata": {
        "colab": {
          "base_uri": "https://localhost:8080/"
        },
        "id": "1lGeDqduMP3R",
        "outputId": "8b8b2eb4-24b9-4174-fc6a-5fbc4ad49df3"
      },
      "outputs": [
        {
          "output_type": "execute_result",
          "data": {
            "text/plain": [
              "243497"
            ]
          },
          "metadata": {},
          "execution_count": 36
        }
      ],
      "source": [
        "len(num_tokens)\n",
        "\n",
        "# datamdaki tüm document/satır/yorumların sayısı"
      ]
    },
    {
      "cell_type": "markdown",
      "metadata": {
        "id": "fvfHyoaKMP3R"
      },
      "source": [
        "## Fixing token counts of all documents (pad_sequences)"
      ]
    },
    {
      "cell_type": "code",
      "execution_count": null,
      "metadata": {
        "id": "bs3CarRdMP3R"
      },
      "outputs": [],
      "source": [
        "X_pad = pad_sequences(X_num_tokens, maxlen=max_tokens, padding=\"pre\") # padding=\"pre\", dolgu ve kırpmalar baştan yapılır.\n",
        "                                                                      # padding=\"post\", dolgu ve kırpmalar sondan yapılır.\n",
        "                                                                      # ikisi de denenir hangisi iyi sonuçlar veriyorsa onunla devam edilir.\n",
        "\n",
        "# pad_sequences fonksiyonu içine yorumların numeric versiyonları ve sabitleneceği uzunluk (maxlen) verilerek tüm yorumlar 61 tokene sabitleniyor.\n",
        "# Bu işleme padding (dolgulama, takviye etme) işlemi denir. Ancak, adı sizi yanıltmasın bu işlemde sadece dolgu işlemi değil, eksiltme/kırpma işlemi de yapılır.\n",
        "# 61'den daha az tokene sahip yorumlar, yorumun başına ilave edilecek şekilde 0'lar ile doldurulur. Örnek, 50 tokenden oluşan bir yorum 61 tokene sabitlenecek şekilde başına \n",
        "# 11 adet 0 ilave edilir. (if padding=\"pre\")\n",
        "# 61'den daha fazla tokene sahip yorumlar, yorumun başından olacak şekilde tokenleri kırpılır. Örnek, 71 tokenden oluşan bir yorum 61 tokene sabitlenecek şekilde yorumun \n",
        "# başındaki ilk 10 token kırpılır.(if padding=\"pre\")\n",
        "# 61 tokenden oluşan bir yoruma herhangibir ilave etme veya kırpma işlemi yapılmaz. Olduğu gibi bırakılır.\n",
        "# 61 tokene sabitlediğimiz yorumlarımızı X_pad değişkenine atıyoruz."
      ]
    },
    {
      "cell_type": "code",
      "execution_count": null,
      "metadata": {
        "colab": {
          "base_uri": "https://localhost:8080/"
        },
        "id": "NJsSbXm_MP3S",
        "outputId": "5b537064-f546-45d7-805b-20d1a56130ca"
      },
      "outputs": [
        {
          "output_type": "execute_result",
          "data": {
            "text/plain": [
              "(243497, 61)"
            ]
          },
          "metadata": {},
          "execution_count": 38
        }
      ],
      "source": [
        "X_pad.shape\n",
        "\n",
        "# tüm yorumların 61 tokene sabitlendiğini görüyoruz.\n",
        "# padding işlemine tabi tutulmuş data olduğu anlaşılsın diye X_pad ismini verdik."
      ]
    },
    {
      "cell_type": "code",
      "execution_count": null,
      "metadata": {
        "colab": {
          "base_uri": "https://localhost:8080/"
        },
        "id": "9byUlLyPMP3S",
        "outputId": "c724bfff-1d76-4e0b-fb8f-82e51eee8b02"
      },
      "outputs": [
        {
          "output_type": "execute_result",
          "data": {
            "text/plain": [
              "array([  19,  341,   52,  194,   30,   54, 7992,   55,  209,  603, 7887,\n",
              "          3,   36,  114,  164,  479,   85,    1, 1682,  782,   30,    2,\n",
              "        380,  326,    3,    1,   81,  132,  562,    9,   10])"
            ]
          },
          "metadata": {},
          "execution_count": 40
        }
      ],
      "source": [
        "np.array(X_num_tokens[800])"
      ]
    },
    {
      "cell_type": "code",
      "execution_count": null,
      "metadata": {
        "colab": {
          "base_uri": "https://localhost:8080/"
        },
        "id": "58PMSYooYApW",
        "outputId": "e7d46f47-28fe-4539-f211-ecd4c202c32f"
      },
      "outputs": [
        {
          "output_type": "execute_result",
          "data": {
            "text/plain": [
              "31"
            ]
          },
          "metadata": {},
          "execution_count": 41
        }
      ],
      "source": [
        "len(np.array(X_num_tokens[800]))\n",
        "# 800'üncü yorumun 31 tokenden oluştuğunu görüyoruz."
      ]
    },
    {
      "cell_type": "code",
      "execution_count": null,
      "metadata": {
        "colab": {
          "base_uri": "https://localhost:8080/"
        },
        "id": "AZOPw83rMP3S",
        "outputId": "06ef7ee5-1881-4c60-b4a5-8207bc862f65"
      },
      "outputs": [
        {
          "output_type": "execute_result",
          "data": {
            "text/plain": [
              "array([   0,    0,    0,    0,    0,    0,    0,    0,    0,    0,    0,\n",
              "          0,    0,    0,    0,    0,    0,    0,    0,    0,    0,    0,\n",
              "          0,    0,    0,    0,    0,    0,    0,    0,   19,  341,   52,\n",
              "        194,   30,   54, 7992,   55,  209,  603, 7887,    3,   36,  114,\n",
              "        164,  479,   85,    1, 1682,  782,   30,    2,  380,  326,    3,\n",
              "          1,   81,  132,  562,    9,   10], dtype=int32)"
            ]
          },
          "metadata": {},
          "execution_count": 42
        }
      ],
      "source": [
        "X_pad[800]\n",
        "\n",
        "# padding işlemi sonrası 61 tokene sabitlenecek şekilde yorumun başına 30 adet 0 ilave ediliyor."
      ]
    },
    {
      "cell_type": "code",
      "execution_count": null,
      "metadata": {
        "colab": {
          "base_uri": "https://localhost:8080/"
        },
        "id": "4skufTFRMP3T",
        "outputId": "bdee6e1f-c72c-4e4d-d486-6023e18629f4"
      },
      "outputs": [
        {
          "output_type": "execute_result",
          "data": {
            "text/plain": [
              "array([  145,     5,  5876,  2225,  1653,   902,   203,     1,     6,\n",
              "        2958,   163,  4248,   374,  3449,  1521, 12582,     3,  1381,\n",
              "           1,   491,   281,   140,     1,   491,  3391,  2388,   235,\n",
              "          21,    82,   756,    31,   212,  4458,  1448,    14,     6,\n",
              "         472,   609,  2159,    14,    15,   673,  1681,  2152,     3,\n",
              "         313,   444,   261,    13,   561,   463,   470,  1664,   168,\n",
              "         639,   519,  3209,  5455,  6409,   600,   625,   153,    38,\n",
              "         194,   272,   635,   389,   140,    26,    52,    40,   272,\n",
              "          15,    84,    38,   466,  1679, 12350,  1036,   999,     3,\n",
              "          96,     2,   318,    34,   134,   169,    40,  2752,     3,\n",
              "          77,   750,   168,   881,     3,   509,   571,   359,   195,\n",
              "           1,   491,     3,   172,    82,   256,  6460,    45,   926,\n",
              "         195,  2061,  6575,   603,  7031,   235,    21,   103,   931,\n",
              "         136,   394,  1316,  1917,     5,  2167,   567,  1034,  2217,\n",
              "          26,   335,  1883,    34,     3,     1,    79,   191,  3542,\n",
              "         705,    34,   954,  2751,  1341,   569,     2,    18,   135,\n",
              "        6653,   893,  3326,   133,     3,   195,    18,   133,   367,\n",
              "           5,   136,    13,   532,  1191,     5,  3051,  1308,  1865,\n",
              "           3,  4803,   119,     8,  1308,   105,   537,   136,  1181,\n",
              "          32,   836,  1640,    31,   204,    45,   585,  1346,   258,\n",
              "        3977,    98,  1976,     3,  1849,   546, 14186,    34,  3637,\n",
              "        1350,  1787,   100,     5,    39,     5,     4,   934,    65,\n",
              "         309,    55,   987,   797,  1612,    75,   537,  1433,     6,\n",
              "        1897,     6,  1205,    18,     6,    25,   104,  1902,  1421,\n",
              "         221,   100,  4468,   136,  2411,   597,   260,  1530,   787,\n",
              "        2889,   277,     2,  1425,    34,  2532,  1057,    18,    34,\n",
              "         902,  1869,   287,   872,  3501,   537,  1804,   488,  2218,\n",
              "          75,   163,     2,   456,    13,  1308,  1865,  3432,     5,\n",
              "         824,  7798,   836,  1640,  7838,  3344,    12,  1308,    31,\n",
              "        3063,   299,  2704,   851,  1052,    39,  1490,  3436,   317,\n",
              "        1170,    75,   537,    50,   327,   246,  1322,   120,     2,\n",
              "        3436,  7527,   199,   260,   579,  6176,  1800,    13,    45,\n",
              "         808,   108,     3,   865,   749,  5840,    50,   106,    76,\n",
              "         879])"
            ]
          },
          "metadata": {},
          "execution_count": 43
        }
      ],
      "source": [
        "np.array(X_num_tokens[21941])\n",
        "\n",
        "# şimdide 298 tokenden oluşan corpusun en uzun olan 21941'inci yorumuna padding işlemi uygularsak ne olacağına bakalım."
      ]
    },
    {
      "cell_type": "code",
      "execution_count": null,
      "metadata": {
        "colab": {
          "base_uri": "https://localhost:8080/"
        },
        "id": "n_yR_ZsfMP3T",
        "outputId": "75ac9766-7d25-43af-efd0-3baa4203f7cf"
      },
      "outputs": [
        {
          "output_type": "execute_result",
          "data": {
            "text/plain": [
              "array([ 872, 3501,  537, 1804,  488, 2218,   75,  163,    2,  456,   13,\n",
              "       1308, 1865, 3432,    5,  824, 7798,  836, 1640, 7838, 3344,   12,\n",
              "       1308,   31, 3063,  299, 2704,  851, 1052,   39, 1490, 3436,  317,\n",
              "       1170,   75,  537,   50,  327,  246, 1322,  120,    2, 3436, 7527,\n",
              "        199,  260,  579, 6176, 1800,   13,   45,  808,  108,    3,  865,\n",
              "        749, 5840,   50,  106,   76,  879], dtype=int32)"
            ]
          },
          "metadata": {},
          "execution_count": 44
        }
      ],
      "source": [
        "X_pad[21941]\n",
        "\n",
        "# Gördüğünüz gibi 61 tokene sabitlenecek şekilde yorumun başındaki 237 token kırpılıyor."
      ]
    },
    {
      "cell_type": "markdown",
      "metadata": {
        "id": "cdZpEZg0MP3V"
      },
      "source": [
        "## Train Test Split"
      ]
    },
    {
      "cell_type": "code",
      "execution_count": null,
      "metadata": {
        "id": "uuzziHMgMP3V"
      },
      "outputs": [],
      "source": [
        "from sklearn.model_selection import train_test_split"
      ]
    },
    {
      "cell_type": "code",
      "execution_count": null,
      "metadata": {
        "id": "-r7MDXwWMP3V"
      },
      "outputs": [],
      "source": [
        "X_train, X_test, y_train, y_test = train_test_split(X_pad, y, test_size=0.1, stratify=y, random_state=42)"
      ]
    },
    {
      "cell_type": "code",
      "execution_count": null,
      "metadata": {
        "id": "8mQLr7pQMP3W"
      },
      "outputs": [],
      "source": []
    },
    {
      "cell_type": "markdown",
      "metadata": {
        "id": "RY35Ev1rMP3W"
      },
      "source": [
        "## Modelling"
      ]
    },
    {
      "cell_type": "code",
      "execution_count": null,
      "metadata": {
        "id": "GPoCxQyXMP3W"
      },
      "outputs": [],
      "source": [
        "model = Sequential()\n",
        "\n",
        "# Bu işlev, bir modelin sıralı bir şekilde, yani katmanların (layer) birbirini ardışık olarak takip ettiği bir modeli temsil eder. \n",
        "# Sequential modeli, çıktıları bir sonraki katmana giren katmanları içerir. \n",
        "# Katmanlar, Sequential modeline add metoduyla eklenir."
      ]
    },
    {
      "cell_type": "code",
      "execution_count": null,
      "metadata": {
        "id": "XXOdeDTXMP3W"
      },
      "outputs": [],
      "source": [
        "embedding_size = 50\n",
        "\n",
        "# DL modele vereceğimiz her bir tokenin kaç elemanlı/boyutlu bir vektör olmasını istiyorsak burada belirtiyoruz.\n",
        "# Best practice genelde 50, 100, 300 gibi rakamlar tercih edilse de siz istediğiniz rakamı seçebilirsiniz. Ancak bu sayı ne kadar büyük olursa bize çalışma maaliyeti olarak\n",
        "# geri dönecektir."
      ]
    },
    {
      "cell_type": "code",
      "execution_count": null,
      "metadata": {
        "id": "w6xvp2kQMP3X"
      },
      "outputs": [],
      "source": []
    },
    {
      "cell_type": "markdown",
      "source": [
        "## ANN Modellerinde Tavsiye edilen Nöron Sayısı\n",
        "\n",
        "Birden fazla hidden layer bulunan **(ANN)** bir deep learning modelinde nöron sayısını planlamak için birkaç farklı yaklaşım bulunmaktadır.\n",
        "\n",
        "**Giderek azalan nöron sayısı**: İlk gizli katmanda daha fazla nöron kullanılır ve her sonraki katmanda nöron sayısı azaltılır. Bu yaklaşım, daha önceki katmanlarda daha fazla özellik öğrenilmesini sağlar ve daha sonraki katmanlarda daha az özellik ihtiyacı olduğu düşünülür.\n",
        "\n",
        "**Sabit nöron sayısı**: Her katmanda aynı sayıda nöron kullanılır. Bu yaklaşım, her katmanın aynı öneme sahip olduğu düşünülür.\n",
        "\n",
        "**Giderek artan nöron sayısı**: İlk gizli katmanda az sayıda nöron kullanılır ve her sonraki katmanda nöron sayısı arttırılır. Bu yaklaşım, daha sonraki katmanlarda daha fazla özellik ihtiyacı olduğu düşünülür.\n",
        "\n",
        "Bu yöntemler arasında en iyisini bulmak için deneme-yanılma yapılması önerilir. Ayrıca, gizli katman sayısının, nöron sayılarının, optimizasyon fonksiyonlarının, batch size'ın, vb hiperparametrelerin etkilerini anlamak adına deneyler yaparak, en iyisini seçmek gerekir.\n",
        "\n",
        "**Hipotez olarak, ilk katmanlarda daha fazla nöron kullanılmasının, daha geniş bir özellik alanını kapsamasına ve dolayısıyla daha iyi bir özellik öğrenmesine neden olabileceği söylenebilir. Ancak performans için her zaman en iyi seçenek olmayabileceği için, yapacağınız deneylerle hepsini deneyip en iyi sonucu elde etmeniz önerilir.**"
      ],
      "metadata": {
        "id": "YJaUdQgF7LDm"
      }
    },
    {
      "cell_type": "code",
      "source": [],
      "metadata": {
        "id": "IyMT3M2TrIN3"
      },
      "execution_count": null,
      "outputs": []
    },
    {
      "cell_type": "markdown",
      "source": [
        "## RNN Modellerinde Tavsiye edilen Nöron Sayısı:\n",
        "\n",
        "**Giderek azalan nöron sayısı:** İlk LSTM&GRU katmanında daha fazla nöron kullanılır ve her sonraki katmanda nöron sayısı azaltılır. Bu yaklaşım, daha önceki katmanlarda daha fazla özellik öğrenilmesini sağlar ve daha sonraki katmanlarda daha az özellik ihtiyacı olduğu düşünülür.\n",
        "\n",
        "İlk katman için tavsiye edilen nöron sayısı modele verdiğimiz word embedding vektörü kaç elemandan oluşuyorsa o sayı kadardır. Eğer word embedding 50 elemandan oluşuyorsa ilk layerdaki nöron sayısı 50 ile başlamalı ve giderek azalmalıdır."
      ],
      "metadata": {
        "id": "VIrrdUefrKD6"
      }
    },
    {
      "cell_type": "code",
      "source": [],
      "metadata": {
        "id": "b--fIL31w5ED"
      },
      "execution_count": null,
      "outputs": []
    },
    {
      "cell_type": "markdown",
      "source": [
        "LSTM ve GRU layerlarının \"return_sequences\" hyper_parametresi True olarak düzenlenirse aşağıda görülen tüm time steplerdeki hidden stateler bir sonraki LSTM/GRU layerına beslenir. Eğer takip eden layer LSTM/GRU değilse \"return_sequences\" hyper_parametresi False olarak düzenlenir. Böylece sadece son hidden state beslenir."
      ],
      "metadata": {
        "id": "SR_sNNkZxCpk"
      }
    },
    {
      "cell_type": "markdown",
      "source": [
        "![image.png](data:image/png;base64,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)"
      ],
      "metadata": {
        "id": "RmUVoIt8w5q_"
      }
    },
    {
      "cell_type": "code",
      "execution_count": null,
      "metadata": {
        "id": "WDFpf4fSMP3X"
      },
      "outputs": [],
      "source": [
        "model.add(Embedding(input_dim=num_words,\n",
        "                    output_dim=embedding_size,\n",
        "                    input_length=max_tokens))\n",
        "\n",
        "# Embedding layer NLP modellerinde kullanılan bir layer olup 3 boyutlu bir tensörden oluşur. \n",
        "# 1'inci boyutu train setindeki toplam yorum sayısı.\n",
        "# 2'inci boyutu her bir yorumun kaç tokenden oluştuğu (max_tokens).\n",
        "# 3'üncü boyutu her bir tokene ait word embeddingin kaç elemanlı bir vektörden oluştuğu (embedding_size).\n",
        "# Yorumlar numeric versiona dönüştürülürken corpusta en sık kullanılan ilk 15000 token kullanıldığından, hem train hem de predicit aşamasında sadece corpusta en sık\n",
        "# geçen ilk 15000 token kullanılsın diye Embedding layera imput_dim = num_words düzenlemesini yapıyoruz.\n",
        "# Eğer imput_dim'i 15.000'den daha küçük bir sayı yaparsanız (10000 gibi) o zaman model corpusta en sık kullanılan ilk 10000 token ile eğitim ve prediction yapar.\n",
        "\n",
        "model.add(Dropout(0.2))\n",
        "\n",
        "model.add(GRU(units=50, return_sequences=True))\n",
        "\n",
        "# return_sequences=False modelin sadece son zaman adımındaki (t_n) hidden_state'i bir sonraki layera aktarır. defaultu False'dur.\n",
        "# return_sequences= True,  modelin tüm zaman adımlarındaki (t_0, t_1, t_2 .....t_n gibi) tüm hidden_state'i bir sonraki LSTM, GRU layerlarına aktarır. Bu sayede  model tüm\n",
        "# cümleyi aklında tutmaya çalışır. Bir LSTM/GRU layerından sonra yine bir LSTM/GRU layerı geliyorsa return_sequences=True olarak ayarlanmalıdır yoksa model hata döndürür. Ancak,\n",
        "# sonraki layer dense layer ise return_sequences=False düzenlenmelidir aksi durumda model yine hata döndürür. Çünkü Dense layerlar sadece tek bir hidden_state ile çalışır.\n",
        "model.add(Dropout(0.2)) \n",
        "\n",
        "model.add(GRU(units=25, return_sequences=True))\n",
        "model.add(Dropout(0.2))\n",
        "# sonraki layer GRU layer olduğundan return_sequences=True olarak düzenledik.\n",
        "\n",
        "model.add(GRU(units=12, return_sequences=False))\n",
        "# sonraki layer dense layer olduğundan return_sequences=False olarak düzenledik.\n",
        "\n",
        "\n",
        "model.add(Dense(1, activation='sigmoid'))"
      ]
    },
    {
      "cell_type": "code",
      "source": [
        "# Dropout işlemi sırasında belirlenen oran, ortalama olarak kaç nöronun kapatılacağını ifade eder. Örneğin dropout(0.5) işlemi sırasında, her iterasyonda yarısı kadar \n",
        "# nöron rastgele olarak kapatılır. Ancak bu oran her iterasyonda tam olarak aynı olmayabilir. Örneğin bir iterasyonda 0.3 nöron, diğer iterasyonda 0.7 nöron kapatılabilir. \n",
        "# Bu nedenle oran her iterasyonda tahmin edebileceğiniz gibi değişebilir."
      ],
      "metadata": {
        "id": "BkGgMf4MXdR9"
      },
      "execution_count": null,
      "outputs": []
    },
    {
      "cell_type": "code",
      "execution_count": null,
      "metadata": {
        "id": "pKOLaAIlMP3X"
      },
      "outputs": [],
      "source": [
        "optimizer = Adam(learning_rate=0.008)"
      ]
    },
    {
      "cell_type": "code",
      "execution_count": null,
      "metadata": {
        "id": "zQqwx6KkMP3X"
      },
      "outputs": [],
      "source": [
        "model.compile(loss='binary_crossentropy',\n",
        "              optimizer=optimizer,\n",
        "              metrics=['Recall'])\n",
        "\n",
        "# compile (derleme) optimizasyon parametlerini düzenlediğimiz yerdir. \n",
        "# compile parametreleri DL modelinin optimizosyon işlemlerinde kullanacağımız gradient descent algortimasının seçimi, loss functinın belirlenmesi\n",
        "# ve optimizasyon işlemleri sırasında takip edilecek metricleri içerir. Detayları aşağıda olduğu gibidir.\n",
        "# loss: Modelin optimize edilmesi için kullanılacak kayıp fonksiyonu. Örnek olarak, classification :binary_crossentropy veya categorical_crossentropy, regression:mse gibi.\n",
        "# optimizer: Modelin ağırlıklarını optimize etmek için kullanılacak olan optimizasyon algoritması. Örnek olarak, SGD, Adam veya RMSprop gibi.\n",
        "# metrics: Modelin performansını değerlendirmek için kullanılacak olan metrikler. Örnek olarak, accuracy, precision veya recall gibi."
      ]
    },
    {
      "cell_type": "markdown",
      "metadata": {
        "id": "25o7tm7cMP3X"
      },
      "source": [
        "https://stats.stackexchange.com/questions/328926/how-many-parameters-are-in-a-gated-recurrent-unit-gru-recurrent-neural-network"
      ]
    },
    {
      "cell_type": "code",
      "execution_count": null,
      "metadata": {
        "colab": {
          "base_uri": "https://localhost:8080/"
        },
        "id": "kuUR-OshMP3Y",
        "outputId": "dece4ffa-b842-4e6a-ee4d-afc2399a2f10"
      },
      "outputs": [
        {
          "output_type": "stream",
          "name": "stdout",
          "text": [
            "Model: \"sequential_2\"\n",
            "_________________________________________________________________\n",
            " Layer (type)                Output Shape              Param #   \n",
            "=================================================================\n",
            " embedding_2 (Embedding)     (None, 61, 50)            750050    \n",
            "                                                                 \n",
            " dropout_6 (Dropout)         (None, 61, 50)            0         \n",
            "                                                                 \n",
            " gru_6 (GRU)                 (None, 61, 50)            15300     \n",
            "                                                                 \n",
            " dropout_7 (Dropout)         (None, 61, 50)            0         \n",
            "                                                                 \n",
            " gru_7 (GRU)                 (None, 61, 25)            5775      \n",
            "                                                                 \n",
            " dropout_8 (Dropout)         (None, 61, 25)            0         \n",
            "                                                                 \n",
            " gru_8 (GRU)                 (None, 12)                1404      \n",
            "                                                                 \n",
            " dense_2 (Dense)             (None, 1)                 13        \n",
            "                                                                 \n",
            "=================================================================\n",
            "Total params: 772,542\n",
            "Trainable params: 772,542\n",
            "Non-trainable params: 0\n",
            "_________________________________________________________________\n"
          ]
        }
      ],
      "source": [
        "model.summary() \n",
        "# embedding_size * num_words ==> 50 * 15001 ==> 750050\n",
        "\n",
        "# 3 x (n2 + nm + 2n) m= input, n= output\n",
        "# (50*50 + 50*50 + 2*50)*3 = 15.300 ==> m = 50, n = 50 \n",
        "# (25*25 + 50*25 + 2*25)*3 = 5775   ==> m = 50, n = 25\n",
        "# (12*12 + 25*12 + 2*12)*3 = 1404   ==> m = 24, n = 12\n",
        "# 12*1 + 1 = 13"
      ]
    },
    {
      "cell_type": "code",
      "execution_count": null,
      "metadata": {
        "id": "5LxZGh5EMP3Y"
      },
      "outputs": [],
      "source": [
        "from tensorflow.keras.callbacks import EarlyStopping\n",
        "\n",
        "early_stop = EarlyStopping(monitor=\"val_recall\", mode=\"max\", \n",
        "                           patience = 1, restore_best_weights=True)"
      ]
    },
    {
      "cell_type": "code",
      "source": [
        "#from sklearn.utils import class_weight\n",
        "#classes_weights = class_weight.compute_sample_weight(class_weight='balanced', y=y_train)\n",
        "#pd.Series(classes_weights).unique()"
      ],
      "metadata": {
        "id": "BuWgN8AEPDjz"
      },
      "execution_count": null,
      "outputs": []
    },
    {
      "cell_type": "code",
      "source": [
        "weights = {0:0.05, 1:0.95}"
      ],
      "metadata": {
        "id": "KiEnb0EhNhwQ"
      },
      "execution_count": null,
      "outputs": []
    },
    {
      "cell_type": "markdown",
      "metadata": {
        "id": "E2Mm-c-Yg1PU"
      },
      "source": [
        "https://keras.io/getting_started/faq/#why-is-my-training-loss-much-higher-than-my-testing-loss"
      ]
    },
    {
      "cell_type": "code",
      "execution_count": null,
      "metadata": {
        "colab": {
          "base_uri": "https://localhost:8080/"
        },
        "id": "Aq7oVrxLMP3Z",
        "outputId": "e223403f-5e3e-4631-aaa0-5ece0aa82861"
      },
      "outputs": [
        {
          "output_type": "stream",
          "name": "stdout",
          "text": [
            "Epoch 1/10\n",
            "857/857 [==============================] - 73s 79ms/step - loss: 0.0314 - recall: 0.8769 - val_loss: 0.2331 - val_recall: 0.8904\n",
            "Epoch 2/10\n",
            "857/857 [==============================] - 24s 28ms/step - loss: 0.0194 - recall: 0.9338 - val_loss: 0.2196 - val_recall: 0.8743\n"
          ]
        },
        {
          "output_type": "execute_result",
          "data": {
            "text/plain": [
              "<keras.callbacks.History at 0x7facff0d73d0>"
            ]
          },
          "metadata": {},
          "execution_count": 99
        }
      ],
      "source": [
        "model.fit(X_train, y_train, epochs=10, batch_size=256, class_weight=weights,   #sample_weight= classes_weights\n",
        "         validation_data=(X_test, y_test), callbacks=[early_stop])"
      ]
    },
    {
      "cell_type": "markdown",
      "metadata": {
        "id": "fUZGuKlgMP3Z"
      },
      "source": [
        "## Model evaluation"
      ]
    },
    {
      "cell_type": "code",
      "execution_count": null,
      "metadata": {
        "colab": {
          "base_uri": "https://localhost:8080/",
          "height": 112
        },
        "id": "FY1--hF-MP3Z",
        "outputId": "05b4da9a-fd2f-4ae6-b43a-b4b466c60c99"
      },
      "outputs": [
        {
          "output_type": "execute_result",
          "data": {
            "text/plain": [
              "       loss    recall  val_loss  val_recall\n",
              "0  0.031405  0.876909  0.233101    0.890351\n",
              "1  0.019441  0.933783  0.219629    0.874269"
            ],
            "text/html": [
              "\n",
              "  <div id=\"df-1c46941b-e237-4bd2-9e58-40a1c96d671b\">\n",
              "    <div class=\"colab-df-container\">\n",
              "      <div>\n",
              "<style scoped>\n",
              "    .dataframe tbody tr th:only-of-type {\n",
              "        vertical-align: middle;\n",
              "    }\n",
              "\n",
              "    .dataframe tbody tr th {\n",
              "        vertical-align: top;\n",
              "    }\n",
              "\n",
              "    .dataframe thead th {\n",
              "        text-align: right;\n",
              "    }\n",
              "</style>\n",
              "<table border=\"1\" class=\"dataframe\">\n",
              "  <thead>\n",
              "    <tr style=\"text-align: right;\">\n",
              "      <th></th>\n",
              "      <th>loss</th>\n",
              "      <th>recall</th>\n",
              "      <th>val_loss</th>\n",
              "      <th>val_recall</th>\n",
              "    </tr>\n",
              "  </thead>\n",
              "  <tbody>\n",
              "    <tr>\n",
              "      <th>0</th>\n",
              "      <td>0.031405</td>\n",
              "      <td>0.876909</td>\n",
              "      <td>0.233101</td>\n",
              "      <td>0.890351</td>\n",
              "    </tr>\n",
              "    <tr>\n",
              "      <th>1</th>\n",
              "      <td>0.019441</td>\n",
              "      <td>0.933783</td>\n",
              "      <td>0.219629</td>\n",
              "      <td>0.874269</td>\n",
              "    </tr>\n",
              "  </tbody>\n",
              "</table>\n",
              "</div>\n",
              "      <button class=\"colab-df-convert\" onclick=\"convertToInteractive('df-1c46941b-e237-4bd2-9e58-40a1c96d671b')\"\n",
              "              title=\"Convert this dataframe to an interactive table.\"\n",
              "              style=\"display:none;\">\n",
              "        \n",
              "  <svg xmlns=\"http://www.w3.org/2000/svg\" height=\"24px\"viewBox=\"0 0 24 24\"\n",
              "       width=\"24px\">\n",
              "    <path d=\"M0 0h24v24H0V0z\" fill=\"none\"/>\n",
              "    <path d=\"M18.56 5.44l.94 2.06.94-2.06 2.06-.94-2.06-.94-.94-2.06-.94 2.06-2.06.94zm-11 1L8.5 8.5l.94-2.06 2.06-.94-2.06-.94L8.5 2.5l-.94 2.06-2.06.94zm10 10l.94 2.06.94-2.06 2.06-.94-2.06-.94-.94-2.06-.94 2.06-2.06.94z\"/><path d=\"M17.41 7.96l-1.37-1.37c-.4-.4-.92-.59-1.43-.59-.52 0-1.04.2-1.43.59L10.3 9.45l-7.72 7.72c-.78.78-.78 2.05 0 2.83L4 21.41c.39.39.9.59 1.41.59.51 0 1.02-.2 1.41-.59l7.78-7.78 2.81-2.81c.8-.78.8-2.07 0-2.86zM5.41 20L4 18.59l7.72-7.72 1.47 1.35L5.41 20z\"/>\n",
              "  </svg>\n",
              "      </button>\n",
              "      \n",
              "  <style>\n",
              "    .colab-df-container {\n",
              "      display:flex;\n",
              "      flex-wrap:wrap;\n",
              "      gap: 12px;\n",
              "    }\n",
              "\n",
              "    .colab-df-convert {\n",
              "      background-color: #E8F0FE;\n",
              "      border: none;\n",
              "      border-radius: 50%;\n",
              "      cursor: pointer;\n",
              "      display: none;\n",
              "      fill: #1967D2;\n",
              "      height: 32px;\n",
              "      padding: 0 0 0 0;\n",
              "      width: 32px;\n",
              "    }\n",
              "\n",
              "    .colab-df-convert:hover {\n",
              "      background-color: #E2EBFA;\n",
              "      box-shadow: 0px 1px 2px rgba(60, 64, 67, 0.3), 0px 1px 3px 1px rgba(60, 64, 67, 0.15);\n",
              "      fill: #174EA6;\n",
              "    }\n",
              "\n",
              "    [theme=dark] .colab-df-convert {\n",
              "      background-color: #3B4455;\n",
              "      fill: #D2E3FC;\n",
              "    }\n",
              "\n",
              "    [theme=dark] .colab-df-convert:hover {\n",
              "      background-color: #434B5C;\n",
              "      box-shadow: 0px 1px 3px 1px rgba(0, 0, 0, 0.15);\n",
              "      filter: drop-shadow(0px 1px 2px rgba(0, 0, 0, 0.3));\n",
              "      fill: #FFFFFF;\n",
              "    }\n",
              "  </style>\n",
              "\n",
              "      <script>\n",
              "        const buttonEl =\n",
              "          document.querySelector('#df-1c46941b-e237-4bd2-9e58-40a1c96d671b button.colab-df-convert');\n",
              "        buttonEl.style.display =\n",
              "          google.colab.kernel.accessAllowed ? 'block' : 'none';\n",
              "\n",
              "        async function convertToInteractive(key) {\n",
              "          const element = document.querySelector('#df-1c46941b-e237-4bd2-9e58-40a1c96d671b');\n",
              "          const dataTable =\n",
              "            await google.colab.kernel.invokeFunction('convertToInteractive',\n",
              "                                                     [key], {});\n",
              "          if (!dataTable) return;\n",
              "\n",
              "          const docLinkHtml = 'Like what you see? Visit the ' +\n",
              "            '<a target=\"_blank\" href=https://colab.research.google.com/notebooks/data_table.ipynb>data table notebook</a>'\n",
              "            + ' to learn more about interactive tables.';\n",
              "          element.innerHTML = '';\n",
              "          dataTable['output_type'] = 'display_data';\n",
              "          await google.colab.output.renderOutput(dataTable, element);\n",
              "          const docLink = document.createElement('div');\n",
              "          docLink.innerHTML = docLinkHtml;\n",
              "          element.appendChild(docLink);\n",
              "        }\n",
              "      </script>\n",
              "    </div>\n",
              "  </div>\n",
              "  "
            ]
          },
          "metadata": {},
          "execution_count": 100
        }
      ],
      "source": [
        "model_loss = pd.DataFrame(model.history.history)\n",
        "model_loss.head()"
      ]
    },
    {
      "cell_type": "code",
      "execution_count": null,
      "metadata": {
        "colab": {
          "base_uri": "https://localhost:8080/",
          "height": 448
        },
        "id": "BDVnpeScMP3Z",
        "outputId": "22143715-8ca8-4520-cfa9-64fb0e926e7d"
      },
      "outputs": [
        {
          "output_type": "execute_result",
          "data": {
            "text/plain": [
              "<Axes: >"
            ]
          },
          "metadata": {},
          "execution_count": 101
        },
        {
          "output_type": "display_data",
          "data": {
            "text/plain": [
              "<Figure size 640x480 with 1 Axes>"
            ],
            "image/png": "[encoded data removed]"
          },
          "metadata": {}
        }
      ],
      "source": [
        "model_loss.plot()"
      ]
    },
    {
      "cell_type": "code",
      "execution_count": null,
      "metadata": {
        "colab": {
          "base_uri": "https://localhost:8080/"
        },
        "id": "jfo1PLy9FW32",
        "outputId": "47ffb9f8-1e9a-4c83-d6b0-3c3cacaad456"
      },
      "outputs": [
        {
          "output_type": "stream",
          "name": "stdout",
          "text": [
            "761/761 [==============================] - 5s 6ms/step - loss: 0.2331 - recall: 0.8904\n"
          ]
        },
        {
          "output_type": "execute_result",
          "data": {
            "text/plain": [
              "[0.23310065269470215, 0.890350878238678]"
            ]
          },
          "metadata": {},
          "execution_count": 102
        }
      ],
      "source": [
        "model.evaluate(X_test, y_test)"
      ]
    },
    {
      "cell_type": "code",
      "execution_count": null,
      "metadata": {
        "colab": {
          "base_uri": "https://localhost:8080/"
        },
        "id": "VW9rUaYgMP3a",
        "outputId": "a4b30e79-0156-4ecb-e28c-774d3313b66c"
      },
      "outputs": [
        {
          "output_type": "stream",
          "name": "stdout",
          "text": [
            "6849/6849 [==============================] - 36s 5ms/step - loss: 0.2101 - recall: 0.9498\n"
          ]
        },
        {
          "output_type": "execute_result",
          "data": {
            "text/plain": [
              "[0.21008999645709991, 0.9497887492179871]"
            ]
          },
          "metadata": {},
          "execution_count": 103
        }
      ],
      "source": [
        "model.evaluate(X_train, y_train)"
      ]
    },
    {
      "cell_type": "code",
      "execution_count": null,
      "metadata": {
        "colab": {
          "base_uri": "https://localhost:8080/"
        },
        "id": "n7e4Ly8Qh4_g",
        "outputId": "78d1d82f-9c77-48fa-e211-ead621215779"
      },
      "outputs": [
        {
          "output_type": "stream",
          "name": "stdout",
          "text": [
            "761/761 [==============================] - 4s 4ms/step\n",
            "[[20961  2021]\n",
            " [  150  1218]]\n",
            "-------------------------------------------------------\n",
            "              precision    recall  f1-score   support\n",
            "\n",
            "           0       0.99      0.91      0.95     22982\n",
            "           1       0.38      0.89      0.53      1368\n",
            "\n",
            "    accuracy                           0.91     24350\n",
            "   macro avg       0.68      0.90      0.74     24350\n",
            "weighted avg       0.96      0.91      0.93     24350\n",
            "\n"
          ]
        }
      ],
      "source": [
        "from sklearn.metrics import confusion_matrix, classification_report, accuracy_score, f1_score, roc_auc_score\n",
        "\n",
        "y_pred = model.predict(X_test) >= 0.5\n",
        "\n",
        "print(confusion_matrix(y_test, y_pred))\n",
        "print(\"-------------------------------------------------------\")\n",
        "print(classification_report(y_test, y_pred))"
      ]
    },
    {
      "cell_type": "code",
      "execution_count": null,
      "metadata": {
        "colab": {
          "base_uri": "https://localhost:8080/"
        },
        "id": "lh2CIUcJy9dt",
        "outputId": "99029a1d-e536-4dca-fa97-816015578ac5"
      },
      "outputs": [
        {
          "output_type": "stream",
          "name": "stdout",
          "text": [
            "6849/6849 [==============================] - 29s 4ms/step\n",
            "[[190167  16672]\n",
            " [   618  11690]]\n",
            "-------------------------------------------------------\n",
            "              precision    recall  f1-score   support\n",
            "\n",
            "           0       1.00      0.92      0.96    206839\n",
            "           1       0.41      0.95      0.57     12308\n",
            "\n",
            "    accuracy                           0.92    219147\n",
            "   macro avg       0.70      0.93      0.77    219147\n",
            "weighted avg       0.96      0.92      0.94    219147\n",
            "\n"
          ]
        }
      ],
      "source": [
        "y_train_pred = model.predict(X_train) >= 0.5\n",
        "\n",
        "print(confusion_matrix(y_train, y_train_pred))\n",
        "print(\"-------------------------------------------------------\")\n",
        "print(classification_report(y_train, y_train_pred))"
      ]
    },
    {
      "cell_type": "code",
      "execution_count": null,
      "metadata": {
        "colab": {
          "base_uri": "https://localhost:8080/",
          "height": 467
        },
        "id": "kF0ks_UphsVL",
        "outputId": "0a46a0e4-846b-4c0f-df80-afc8cc613b44"
      },
      "outputs": [
        {
          "output_type": "stream",
          "name": "stdout",
          "text": [
            "761/761 [==============================] - 4s 5ms/step\n"
          ]
        },
        {
          "output_type": "display_data",
          "data": {
            "text/plain": [
              "<Figure size 640x480 with 1 Axes>"
            ],
            "image/png": "[encoded data removed]"
          },
          "metadata": {}
        }
      ],
      "source": [
        "from sklearn.metrics import PrecisionRecallDisplay\n",
        "import matplotlib.pyplot as plt\n",
        "\n",
        "y_pred_proba = model.predict(X_test)\n",
        "\n",
        "PrecisionRecallDisplay.from_predictions(y_test, y_pred_proba)\n",
        "plt.show();"
      ]
    },
    {
      "cell_type": "code",
      "execution_count": null,
      "metadata": {
        "colab": {
          "base_uri": "https://localhost:8080/"
        },
        "id": "PngCc_Ofk3ek",
        "outputId": "dea74c8a-8812-45ff-a071-e10748c861d2"
      },
      "outputs": [
        {
          "output_type": "execute_result",
          "data": {
            "text/plain": [
              "0.7504701189135828"
            ]
          },
          "metadata": {},
          "execution_count": 107
        }
      ],
      "source": [
        "from sklearn.metrics import precision_recall_curve, average_precision_score\n",
        "\n",
        "average_precision_score(y_test, y_pred_proba)"
      ]
    },
    {
      "cell_type": "code",
      "execution_count": null,
      "metadata": {
        "id": "6MUOHCCa62xP"
      },
      "outputs": [],
      "source": []
    },
    {
      "cell_type": "markdown",
      "metadata": {
        "id": "MemCfXzR63sT"
      },
      "source": [
        "## Scores without sample_weight"
      ]
    },
    {
      "cell_type": "markdown",
      "metadata": {
        "id": "p4qlzwmPkwwT"
      },
      "source": [
        "Test set\n",
        "\n",
        "                precision    recall  f1-score   support\n",
        "\n",
        "           0       0.98      0.99      0.98     45965\n",
        "           1       0.72      0.63      0.67      2735\n",
        "\n",
        "    accuracy                           0.97     48700\n",
        "   \n",
        " \n",
        " \n",
        " \n",
        " Train set \n",
        "\n",
        "              precision    recall  f1-score   support\n",
        "\n",
        "           0       0.99      0.99      0.99    183856\n",
        "           1       0.87      0.80      0.84     10941\n",
        "\n",
        "    accuracy                           0.98    194797\n",
        "   "
      ]
    },
    {
      "cell_type": "code",
      "execution_count": null,
      "metadata": {
        "id": "qbZ3cnXP67Vf"
      },
      "outputs": [],
      "source": []
    },
    {
      "cell_type": "markdown",
      "metadata": {
        "id": "b0fcHGnY0aH9"
      },
      "source": [
        "## Model Saving"
      ]
    },
    {
      "cell_type": "code",
      "execution_count": null,
      "metadata": {
        "id": "Io2S2n_30UAx"
      },
      "outputs": [],
      "source": [
        "#model.save('review_hepsiburada.h5')"
      ]
    },
    {
      "cell_type": "markdown",
      "metadata": {
        "id": "RvHJTK3N1M8I"
      },
      "source": [
        "##Loading Model"
      ]
    },
    {
      "cell_type": "code",
      "execution_count": null,
      "metadata": {
        "id": "6fF_Moci1Rl3"
      },
      "outputs": [],
      "source": [
        "#from tensorflow.keras.models import load_model\n",
        "#model_review = load_model('/content/drive/MyDrive/review_hepsiburada.h5')"
      ]
    },
    {
      "cell_type": "markdown",
      "metadata": {
        "id": "U3Z5WQt0MP3e"
      },
      "source": [
        "## Predicton"
      ]
    },
    {
      "cell_type": "code",
      "execution_count": null,
      "metadata": {
        "id": "XXl_3XopMP3e"
      },
      "outputs": [],
      "source": [
        "review1 = \"çok beğendim herkese tavsiye ederim\"\n",
        "review2 = \"süper ürün\"\n",
        "review3 = \"büyük bir hayal kırıklığı yaşadım bu ürünü bu markaya yakıştıramadım\"\n",
        "review4 = \"kelimelerle tarif edilemez\"\n",
        "review5 = \"tasarımı harika ancak kargo çok geç geldi ve ürün açılmıştı hayal kırıklığı gerçekten\"\n",
        "review6 = \"hiç resimde gösterildiği gibi değil\"\n",
        "review7 = \"kötü yorumlar gözümü korkutmuştu ancak hiçbir sorun yaşamadım.\"\n",
        "review8 = \"hiç bu kadar kötü bir satıcıya denk gelmemiştim ürün siparişimi iptal ediyorum\"\n",
        "review9 = \"tam bir fiyat performans ürünü\"\n",
        "review10 = \"beklediğim gibi çıkmadı\"\n",
        "review11 = \"on numara beş yıldız\"\n",
        "review12 = \"üründe sıkıntı var\"\n",
        "review13 = \"televizyonun görüntü kalitesi çok kötü, dün akşam evde arkadaşlarla toplandık. yedik, içtik, sohbet ettik. Sonra televizyonda Türkiye - İngiltere maçını seyrettik.\"\n",
        "review14 = '1 gün gibi kısa bir sürede elime geçti. Ve bu fıyata süper bir ürün tavsiye ederim. Lakin eli büyük olan kişiler daha büyük modelini tercih edebilirler ortaboy ürün.Teşekkürler '\n",
        "review15 = 'telefon kesinlikle bu parayı hak etmiyor. yeni hiç bir özelliği yok. ancak küçük ekran sevenler için iyi bir telefon'\n",
        "review16 = 'müthiş bir telefon ama bu parayı hak etmiyor'\n",
        "reviews = [review1, review2, review3, review4, review5, review6, review7, review8, review9, review10, review11, review12, review13, review14, review15, review16]\n",
        "\n",
        "# 16 tane yorum için prediction alacağız."
      ]
    },
    {
      "cell_type": "code",
      "execution_count": null,
      "metadata": {
        "id": "XhxQQSEqMP3e"
      },
      "outputs": [],
      "source": [
        "tokens = tokenizer.texts_to_sequences(reviews)\n",
        "\n",
        "# Öncelikle predict edeceğimiz textleri train datasında olduğu gibi datamızda en fazla kullanılan 15000 tokene göre  numeric versiona dönüştürüyoruz.\n",
        "# train datasında en sık kullanılan ilk 15000 tokene göre dönüşümler yapıldığından ilk 15000 token dışında kalan tokenler predict aşamasında ignore edilir."
      ]
    },
    {
      "cell_type": "code",
      "execution_count": null,
      "metadata": {
        "colab": {
          "base_uri": "https://localhost:8080/"
        },
        "id": "GDePbQkGzpah",
        "outputId": "3e705074-0f8d-45e6-91ae-6a5d8bb3ff55"
      },
      "outputs": [
        {
          "output_type": "stream",
          "name": "stderr",
          "text": [
            "<ipython-input-121-7c9da339794c>:1: VisibleDeprecationWarning: Creating an ndarray from ragged nested sequences (which is a list-or-tuple of lists-or-tuples-or ndarrays with different lengths or shapes) is deprecated. If you meant to do this, you must specify 'dtype=object' when creating the ndarray.\n",
            "  np.array(tokens)\n"
          ]
        },
        {
          "output_type": "execute_result",
          "data": {
            "text/plain": [
              "array([list([1, 146, 70, 9, 10]), list([73, 4]),\n",
              "       list([104, 2, 1032, 2333, 1466, 5, 19, 5, 1779, 11413]),\n",
              "       list([4212, 11835]),\n",
              "       list([553, 61, 82, 27, 1, 458, 33, 3, 4, 1032, 2333, 37]),\n",
              "       list([46, 1096, 6419, 20, 50]),\n",
              "       list([177, 735, 7728, 82, 263, 105, 326]),\n",
              "       list([46, 5, 30, 177, 2, 1717, 1244, 4, 1723, 4600, 83]),\n",
              "       list([74, 2, 28, 111, 19]), list([637, 20, 857]),\n",
              "       list([395, 179, 1001, 511]), list([447, 147, 34]),\n",
              "       list([7070, 318, 62, 1, 177, 375, 473, 286, 6559, 1412, 41, 9636, 774]),\n",
              "       list([38, 40, 20, 108, 2, 161, 29, 150, 3, 5, 2855, 73, 2, 4, 9, 10, 1159, 2430, 104, 113, 2068, 11, 104, 1150, 175, 12730, 4, 16]),\n",
              "       list([44, 43, 5, 1248, 492, 741, 135, 46, 2, 235, 21, 82, 116, 168, 1598, 8, 6, 2, 44]),\n",
              "       list([584, 2, 44, 12, 5, 1248, 492, 741])], dtype=object)"
            ]
          },
          "metadata": {},
          "execution_count": 121
        }
      ],
      "source": [
        "np.array(tokens)"
      ]
    },
    {
      "cell_type": "code",
      "execution_count": null,
      "metadata": {
        "colab": {
          "base_uri": "https://localhost:8080/"
        },
        "id": "NNbh_gkTMP3e",
        "outputId": "d4d188ed-8b77-4f8f-e54c-672f89a3b4d5"
      },
      "outputs": [
        {
          "output_type": "execute_result",
          "data": {
            "text/plain": [
              "(16, 61)"
            ]
          },
          "metadata": {},
          "execution_count": 111
        }
      ],
      "source": [
        "tokens_pad = pad_sequences(tokens, maxlen=max_tokens, padding=\"pre\")\n",
        "tokens_pad.shape\n",
        "\n",
        "# tüm yorumları train datasında olduğu 61 tokene sabitliyoruz."
      ]
    },
    {
      "cell_type": "code",
      "execution_count": null,
      "metadata": {
        "colab": {
          "base_uri": "https://localhost:8080/"
        },
        "id": "r01hpC1j8zrx",
        "outputId": "1a37825a-967f-4ebe-fd78-639772ec06a3"
      },
      "outputs": [
        {
          "output_type": "stream",
          "name": "stdout",
          "text": [
            "1/1 [==============================] - 0s 21ms/step\n"
          ]
        },
        {
          "output_type": "execute_result",
          "data": {
            "text/plain": [
              "array([[0.01501415],\n",
              "       [0.0225437 ],\n",
              "       [0.993324  ],\n",
              "       [0.12396724],\n",
              "       [0.97982204],\n",
              "       [0.988313  ],\n",
              "       [0.94777226],\n",
              "       [0.9815578 ],\n",
              "       [0.04858442],\n",
              "       [0.9889157 ],\n",
              "       [0.01519694],\n",
              "       [0.80830854],\n",
              "       [0.99131167],\n",
              "       [0.21566276],\n",
              "       [0.9705493 ],\n",
              "       [0.589311  ]], dtype=float32)"
            ]
          },
          "metadata": {},
          "execution_count": 112
        }
      ],
      "source": [
        "prob = model.predict(tokens_pad)\n",
        "prob"
      ]
    },
    {
      "cell_type": "code",
      "source": [
        "[i[0] for i in prob]"
      ],
      "metadata": {
        "colab": {
          "base_uri": "https://localhost:8080/"
        },
        "id": "VtaH-uVHPlQz",
        "outputId": "8daf7bb6-ef64-4c92-a4df-2ec573ae4ae2"
      },
      "execution_count": null,
      "outputs": [
        {
          "output_type": "execute_result",
          "data": {
            "text/plain": [
              "[0.015014148,\n",
              " 0.022543702,\n",
              " 0.993324,\n",
              " 0.12396724,\n",
              " 0.97982204,\n",
              " 0.988313,\n",
              " 0.94777226,\n",
              " 0.9815578,\n",
              " 0.04858442,\n",
              " 0.9889157,\n",
              " 0.01519694,\n",
              " 0.80830854,\n",
              " 0.99131167,\n",
              " 0.21566276,\n",
              " 0.9705493,\n",
              " 0.589311]"
            ]
          },
          "metadata": {},
          "execution_count": 113
        }
      ]
    },
    {
      "cell_type": "code",
      "execution_count": null,
      "metadata": {
        "colab": {
          "base_uri": "https://localhost:8080/"
        },
        "id": "RTGxn4qwMP3f",
        "outputId": "df050513-1453-4093-bf19-403d5affc045"
      },
      "outputs": [
        {
          "output_type": "stream",
          "name": "stdout",
          "text": [
            "1/1 [==============================] - 0s 24ms/step\n"
          ]
        },
        {
          "output_type": "execute_result",
          "data": {
            "text/plain": [
              "array([[0],\n",
              "       [0],\n",
              "       [1],\n",
              "       [0],\n",
              "       [1],\n",
              "       [1],\n",
              "       [1],\n",
              "       [1],\n",
              "       [0],\n",
              "       [1],\n",
              "       [0],\n",
              "       [1],\n",
              "       [1],\n",
              "       [0],\n",
              "       [1],\n",
              "       [1]])"
            ]
          },
          "metadata": {},
          "execution_count": 88
        }
      ],
      "source": [
        "pred = (model.predict(tokens_pad) >0.5).astype(\"int\")\n",
        "pred"
      ]
    },
    {
      "cell_type": "code",
      "source": [
        "[i[0] for i in pred]"
      ],
      "metadata": {
        "colab": {
          "base_uri": "https://localhost:8080/"
        },
        "id": "WfWNfnPkPp1L",
        "outputId": "03e82554-f13b-431b-d1ea-cc54aa049f21"
      },
      "execution_count": null,
      "outputs": [
        {
          "output_type": "execute_result",
          "data": {
            "text/plain": [
              "[0, 0, 1, 0, 1, 1, 1, 1, 0, 1, 0, 1, 1, 0, 1, 1]"
            ]
          },
          "metadata": {},
          "execution_count": 114
        }
      ]
    },
    {
      "cell_type": "code",
      "execution_count": null,
      "metadata": {
        "colab": {
          "base_uri": "https://localhost:8080/",
          "height": 551
        },
        "id": "MSL1R81HMP3f",
        "outputId": "f36e572d-3b02-4372-d0a4-57e247780198"
      },
      "outputs": [
        {
          "output_type": "execute_result",
          "data": {
            "text/plain": [
              "                                                                                                                                                                               Review  \\\n",
              "0                                                                                                                                                 çok beğendim herkese tavsiye ederim   \n",
              "1                                                                                                                                                                          süper ürün   \n",
              "2                                                                                                                büyük bir hayal kırıklığı yaşadım bu ürünü bu markaya yakıştıramadım   \n",
              "3                                                                                                                                                          kelimelerle tarif edilemez   \n",
              "4                                                                                               tasarımı harika ancak kargo çok geç geldi ve ürün açılmıştı hayal kırıklığı gerçekten   \n",
              "5                                                                                                                                                 hiç resimde gösterildiği gibi değil   \n",
              "6                                                                                                                      kötü yorumlar gözümü korkutmuştu ancak hiçbir sorun yaşamadım.   \n",
              "7                                                                                                      hiç bu kadar kötü bir satıcıya denk gelmemiştim ürün siparişimi iptal ediyorum   \n",
              "8                                                                                                                                                      tam bir fiyat performans ürünü   \n",
              "9                                                                                                                                                             beklediğim gibi çıkmadı   \n",
              "10                                                                                                                                                               on numara beş yıldız   \n",
              "11                                                                                                                                                                 üründe sıkıntı var   \n",
              "12                televizyonun görüntü kalitesi çok kötü, dün akşam evde arkadaşlarla toplandık. yedik, içtik, sohbet ettik. Sonra televizyonda Türkiye - İngiltere maçını seyrettik.   \n",
              "13  1 gün gibi kısa bir sürede elime geçti. Ve bu fıyata süper bir ürün tavsiye ederim. Lakin eli büyük olan kişiler daha büyük modelini tercih edebilirler ortaboy ürün.Teşekkürler    \n",
              "14                                                               telefon kesinlikle bu parayı hak etmiyor. yeni hiç bir özelliği yok. ancak küçük ekran sevenler için iyi bir telefon   \n",
              "15                                                                                                                                       müthiş bir telefon ama bu parayı hak etmiyor   \n",
              "\n",
              "        prob  classes  \n",
              "0   0.015945        0  \n",
              "1   0.020698        0  \n",
              "2   0.990473        1  \n",
              "3   0.387328        0  \n",
              "4   0.917060        1  \n",
              "5   0.987781        1  \n",
              "6   0.957950        1  \n",
              "7   0.986676        1  \n",
              "8   0.035599        0  \n",
              "9   0.963472        1  \n",
              "10  0.018658        0  \n",
              "11  0.815634        1  \n",
              "12  0.988828        1  \n",
              "13  0.395895        0  \n",
              "14  0.975465        1  \n",
              "15  0.842785        1  "
            ],
            "text/html": [
              "\n",
              "  <div id=\"df-2fdb8321-040f-44cc-abfd-ca0f3bdd1fb0\">\n",
              "    <div class=\"colab-df-container\">\n",
              "      <div>\n",
              "<style scoped>\n",
              "    .dataframe tbody tr th:only-of-type {\n",
              "        vertical-align: middle;\n",
              "    }\n",
              "\n",
              "    .dataframe tbody tr th {\n",
              "        vertical-align: top;\n",
              "    }\n",
              "\n",
              "    .dataframe thead th {\n",
              "        text-align: right;\n",
              "    }\n",
              "</style>\n",
              "<table border=\"1\" class=\"dataframe\">\n",
              "  <thead>\n",
              "    <tr style=\"text-align: right;\">\n",
              "      <th></th>\n",
              "      <th>Review</th>\n",
              "      <th>prob</th>\n",
              "      <th>classes</th>\n",
              "    </tr>\n",
              "  </thead>\n",
              "  <tbody>\n",
              "    <tr>\n",
              "      <th>0</th>\n",
              "      <td>çok beğendim herkese tavsiye ederim</td>\n",
              "      <td>0.015945</td>\n",
              "      <td>0</td>\n",
              "    </tr>\n",
              "    <tr>\n",
              "      <th>1</th>\n",
              "      <td>süper ürün</td>\n",
              "      <td>0.020698</td>\n",
              "      <td>0</td>\n",
              "    </tr>\n",
              "    <tr>\n",
              "      <th>2</th>\n",
              "      <td>büyük bir hayal kırıklığı yaşadım bu ürünü bu markaya yakıştıramadım</td>\n",
              "      <td>0.990473</td>\n",
              "      <td>1</td>\n",
              "    </tr>\n",
              "    <tr>\n",
              "      <th>3</th>\n",
              "      <td>kelimelerle tarif edilemez</td>\n",
              "      <td>0.387328</td>\n",
              "      <td>0</td>\n",
              "    </tr>\n",
              "    <tr>\n",
              "      <th>4</th>\n",
              "      <td>tasarımı harika ancak kargo çok geç geldi ve ürün açılmıştı hayal kırıklığı gerçekten</td>\n",
              "      <td>0.917060</td>\n",
              "      <td>1</td>\n",
              "    </tr>\n",
              "    <tr>\n",
              "      <th>5</th>\n",
              "      <td>hiç resimde gösterildiği gibi değil</td>\n",
              "      <td>0.987781</td>\n",
              "      <td>1</td>\n",
              "    </tr>\n",
              "    <tr>\n",
              "      <th>6</th>\n",
              "      <td>kötü yorumlar gözümü korkutmuştu ancak hiçbir sorun yaşamadım.</td>\n",
              "      <td>0.957950</td>\n",
              "      <td>1</td>\n",
              "    </tr>\n",
              "    <tr>\n",
              "      <th>7</th>\n",
              "      <td>hiç bu kadar kötü bir satıcıya denk gelmemiştim ürün siparişimi iptal ediyorum</td>\n",
              "      <td>0.986676</td>\n",
              "      <td>1</td>\n",
              "    </tr>\n",
              "    <tr>\n",
              "      <th>8</th>\n",
              "      <td>tam bir fiyat performans ürünü</td>\n",
              "      <td>0.035599</td>\n",
              "      <td>0</td>\n",
              "    </tr>\n",
              "    <tr>\n",
              "      <th>9</th>\n",
              "      <td>beklediğim gibi çıkmadı</td>\n",
              "      <td>0.963472</td>\n",
              "      <td>1</td>\n",
              "    </tr>\n",
              "    <tr>\n",
              "      <th>10</th>\n",
              "      <td>on numara beş yıldız</td>\n",
              "      <td>0.018658</td>\n",
              "      <td>0</td>\n",
              "    </tr>\n",
              "    <tr>\n",
              "      <th>11</th>\n",
              "      <td>üründe sıkıntı var</td>\n",
              "      <td>0.815634</td>\n",
              "      <td>1</td>\n",
              "    </tr>\n",
              "    <tr>\n",
              "      <th>12</th>\n",
              "      <td>televizyonun görüntü kalitesi çok kötü, dün akşam evde arkadaşlarla toplandık. yedik, içtik, sohbet ettik. Sonra televizyonda Türkiye - İngiltere maçını seyrettik.</td>\n",
              "      <td>0.988828</td>\n",
              "      <td>1</td>\n",
              "    </tr>\n",
              "    <tr>\n",
              "      <th>13</th>\n",
              "      <td>1 gün gibi kısa bir sürede elime geçti. Ve bu fıyata süper bir ürün tavsiye ederim. Lakin eli büyük olan kişiler daha büyük modelini tercih edebilirler ortaboy ürün.Teşekkürler</td>\n",
              "      <td>0.395895</td>\n",
              "      <td>0</td>\n",
              "    </tr>\n",
              "    <tr>\n",
              "      <th>14</th>\n",
              "      <td>telefon kesinlikle bu parayı hak etmiyor. yeni hiç bir özelliği yok. ancak küçük ekran sevenler için iyi bir telefon</td>\n",
              "      <td>0.975465</td>\n",
              "      <td>1</td>\n",
              "    </tr>\n",
              "    <tr>\n",
              "      <th>15</th>\n",
              "      <td>müthiş bir telefon ama bu parayı hak etmiyor</td>\n",
              "      <td>0.842785</td>\n",
              "      <td>1</td>\n",
              "    </tr>\n",
              "  </tbody>\n",
              "</table>\n",
              "</div>\n",
              "      <button class=\"colab-df-convert\" onclick=\"convertToInteractive('df-2fdb8321-040f-44cc-abfd-ca0f3bdd1fb0')\"\n",
              "              title=\"Convert this dataframe to an interactive table.\"\n",
              "              style=\"display:none;\">\n",
              "        \n",
              "  <svg xmlns=\"http://www.w3.org/2000/svg\" height=\"24px\"viewBox=\"0 0 24 24\"\n",
              "       width=\"24px\">\n",
              "    <path d=\"M0 0h24v24H0V0z\" fill=\"none\"/>\n",
              "    <path d=\"M18.56 5.44l.94 2.06.94-2.06 2.06-.94-2.06-.94-.94-2.06-.94 2.06-2.06.94zm-11 1L8.5 8.5l.94-2.06 2.06-.94-2.06-.94L8.5 2.5l-.94 2.06-2.06.94zm10 10l.94 2.06.94-2.06 2.06-.94-2.06-.94-.94-2.06-.94 2.06-2.06.94z\"/><path d=\"M17.41 7.96l-1.37-1.37c-.4-.4-.92-.59-1.43-.59-.52 0-1.04.2-1.43.59L10.3 9.45l-7.72 7.72c-.78.78-.78 2.05 0 2.83L4 21.41c.39.39.9.59 1.41.59.51 0 1.02-.2 1.41-.59l7.78-7.78 2.81-2.81c.8-.78.8-2.07 0-2.86zM5.41 20L4 18.59l7.72-7.72 1.47 1.35L5.41 20z\"/>\n",
              "  </svg>\n",
              "      </button>\n",
              "      \n",
              "  <style>\n",
              "    .colab-df-container {\n",
              "      display:flex;\n",
              "      flex-wrap:wrap;\n",
              "      gap: 12px;\n",
              "    }\n",
              "\n",
              "    .colab-df-convert {\n",
              "      background-color: #E8F0FE;\n",
              "      border: none;\n",
              "      border-radius: 50%;\n",
              "      cursor: pointer;\n",
              "      display: none;\n",
              "      fill: #1967D2;\n",
              "      height: 32px;\n",
              "      padding: 0 0 0 0;\n",
              "      width: 32px;\n",
              "    }\n",
              "\n",
              "    .colab-df-convert:hover {\n",
              "      background-color: #E2EBFA;\n",
              "      box-shadow: 0px 1px 2px rgba(60, 64, 67, 0.3), 0px 1px 3px 1px rgba(60, 64, 67, 0.15);\n",
              "      fill: #174EA6;\n",
              "    }\n",
              "\n",
              "    [theme=dark] .colab-df-convert {\n",
              "      background-color: #3B4455;\n",
              "      fill: #D2E3FC;\n",
              "    }\n",
              "\n",
              "    [theme=dark] .colab-df-convert:hover {\n",
              "      background-color: #434B5C;\n",
              "      box-shadow: 0px 1px 3px 1px rgba(0, 0, 0, 0.15);\n",
              "      filter: drop-shadow(0px 1px 2px rgba(0, 0, 0, 0.3));\n",
              "      fill: #FFFFFF;\n",
              "    }\n",
              "  </style>\n",
              "\n",
              "      <script>\n",
              "        const buttonEl =\n",
              "          document.querySelector('#df-2fdb8321-040f-44cc-abfd-ca0f3bdd1fb0 button.colab-df-convert');\n",
              "        buttonEl.style.display =\n",
              "          google.colab.kernel.accessAllowed ? 'block' : 'none';\n",
              "\n",
              "        async function convertToInteractive(key) {\n",
              "          const element = document.querySelector('#df-2fdb8321-040f-44cc-abfd-ca0f3bdd1fb0');\n",
              "          const dataTable =\n",
              "            await google.colab.kernel.invokeFunction('convertToInteractive',\n",
              "                                                     [key], {});\n",
              "          if (!dataTable) return;\n",
              "\n",
              "          const docLinkHtml = 'Like what you see? Visit the ' +\n",
              "            '<a target=\"_blank\" href=https://colab.research.google.com/notebooks/data_table.ipynb>data table notebook</a>'\n",
              "            + ' to learn more about interactive tables.';\n",
              "          element.innerHTML = '';\n",
              "          dataTable['output_type'] = 'display_data';\n",
              "          await google.colab.output.renderOutput(dataTable, element);\n",
              "          const docLink = document.createElement('div');\n",
              "          docLink.innerHTML = docLinkHtml;\n",
              "          element.appendChild(docLink);\n",
              "        }\n",
              "      </script>\n",
              "    </div>\n",
              "  </div>\n",
              "  "
            ]
          },
          "metadata": {},
          "execution_count": 89
        }
      ],
      "source": [
        "pd.set_option('display.max_colwidth', None) # None/-1 ile hücre genişliğini en uzun yoruma/satıra göre ayarlıyor.\n",
        "my_dict = {\"Review\":reviews, \"prob\":[i[0] for i in prob], \"classes\":[i[0] for i in pred]}\n",
        "pd.DataFrame(my_dict)\n",
        "\n",
        "# DataFrame tüm featurların aynı boyutta olmasını istediğinden prob ve classes featurlarını 2 boyuttan tek boyuta düşürüyoruz. \n",
        "# Bu sayede tüm featuraler aynı boyutta olmuş oluyor."
      ]
    },
    {
      "cell_type": "code",
      "source": [],
      "metadata": {
        "id": "1ta1vce4Utsy"
      },
      "execution_count": null,
      "outputs": []
    }
  ],
  "metadata": {
    "accelerator": "GPU",
    "colab": {
      "provenance": [],
      "gpuType": "T4"
    },
    "gpuClass": "standard",
    "kernelspec": {
      "display_name": "Python 3 (ipykernel)",
      "language": "python",
      "name": "python3"
    },
    "language_info": {
      "codemirror_mode": {
        "name": "ipython",
        "version": 3
      },
      "file_extension": ".py",
      "mimetype": "text/x-python",
      "name": "python",
      "nbconvert_exporter": "python",
      "pygments_lexer": "ipython3",
      "version": "3.9.15"
    }
  },
  "nbformat": 4,
  "nbformat_minor": 0
}